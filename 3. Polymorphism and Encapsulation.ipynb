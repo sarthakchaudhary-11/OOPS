{
 "cells": [
  {
   "cell_type": "code",
   "execution_count": 1,
   "id": "96f7aee6-c617-487b-95d2-31dadfcb5663",
   "metadata": {},
   "outputs": [],
   "source": [
    "#polymorphism >> poly means many and morphism means forms/states\n",
    "#refers to an object taking several forms depending on the methods/data"
   ]
  },
  {
   "cell_type": "code",
   "execution_count": 2,
   "id": "62271df9-a875-40cb-9409-b1891bae44b0",
   "metadata": {},
   "outputs": [
    {
     "data": {
      "text/plain": [
       "4"
      ]
     },
     "execution_count": 2,
     "metadata": {},
     "output_type": "execute_result"
    }
   ],
   "source": [
    "len(\"Ajay\")"
   ]
  },
  {
   "cell_type": "code",
   "execution_count": 3,
   "id": "2c1589c8-f113-42ea-9fdd-c7f53420a680",
   "metadata": {},
   "outputs": [
    {
     "data": {
      "text/plain": [
       "5"
      ]
     },
     "execution_count": 3,
     "metadata": {},
     "output_type": "execute_result"
    }
   ],
   "source": [
    "len([1, 2, 3, 4, 5])"
   ]
  },
  {
   "cell_type": "code",
   "execution_count": 4,
   "id": "8778f06c-c5c6-4c85-aa1c-683fad1cef44",
   "metadata": {},
   "outputs": [
    {
     "data": {
      "text/plain": [
       "2"
      ]
     },
     "execution_count": 4,
     "metadata": {},
     "output_type": "execute_result"
    }
   ],
   "source": [
    "len((1, 2))"
   ]
  },
  {
   "cell_type": "code",
   "execution_count": 5,
   "id": "4c54021e-c26e-4d7a-916c-1ef4a529c7a1",
   "metadata": {},
   "outputs": [],
   "source": [
    "def func(a, b):\n",
    "    return a+b"
   ]
  },
  {
   "cell_type": "code",
   "execution_count": 6,
   "id": "d04942d2-043b-4c2c-85a4-6eafc51bd6c1",
   "metadata": {},
   "outputs": [
    {
     "data": {
      "text/plain": [
       "5"
      ]
     },
     "execution_count": 6,
     "metadata": {},
     "output_type": "execute_result"
    }
   ],
   "source": [
    "func(2, 3) #same + adding two numbers"
   ]
  },
  {
   "cell_type": "code",
   "execution_count": 7,
   "id": "6582a777-05af-457b-812b-e146641eb129",
   "metadata": {},
   "outputs": [
    {
     "data": {
      "text/plain": [
       "'pwskills'"
      ]
     },
     "execution_count": 7,
     "metadata": {},
     "output_type": "execute_result"
    }
   ],
   "source": [
    "func(\"pw\", \"skills\") #same +, combining two strings"
   ]
  },
  {
   "cell_type": "code",
   "execution_count": 8,
   "id": "fa08f7b3-d703-485d-97c0-8009e9893b3d",
   "metadata": {},
   "outputs": [
    {
     "data": {
      "text/plain": [
       "[1, 2, 3, 4, 5, 6]"
      ]
     },
     "execution_count": 8,
     "metadata": {},
     "output_type": "execute_result"
    }
   ],
   "source": [
    "func([1, 2, 3], [4, 5, 6]) #the list concatenation"
   ]
  },
  {
   "cell_type": "code",
   "execution_count": 9,
   "id": "934237cd-a060-411c-843b-553c0134e39a",
   "metadata": {},
   "outputs": [],
   "source": [
    "#observation>> func is taking different forms with respect to different data passed"
   ]
  },
  {
   "cell_type": "code",
   "execution_count": 10,
   "id": "56a5ff45-462d-4e70-9e0f-b090f530e14e",
   "metadata": {},
   "outputs": [],
   "source": [
    "class teacher_lecture:\n",
    "    def lec_info(self):\n",
    "        print(\"This is lec info with teacher perspective\")\n",
    "class student_lecture:\n",
    "    def lec_info(self):\n",
    "        print(\"This is lec info with student perspective\")"
   ]
  },
  {
   "cell_type": "code",
   "execution_count": 12,
   "id": "f48ca9e0-bc5f-4699-8e6f-f5b2c66f0ada",
   "metadata": {},
   "outputs": [],
   "source": [
    "obj1 = teacher_lecture()\n",
    "obj2 = student_lecture()\n",
    "class_obj = [obj1, obj2]"
   ]
  },
  {
   "cell_type": "code",
   "execution_count": 13,
   "id": "ea88ecca-04b3-4426-b51c-27e074c95d0b",
   "metadata": {},
   "outputs": [],
   "source": [
    "def parcer(class_obj):\n",
    "    for i in class_obj:\n",
    "        i.lec_info() #at this point, lec_info is taking two forms wrt techer and students"
   ]
  },
  {
   "cell_type": "code",
   "execution_count": 14,
   "id": "8a762dfd-3d6b-41d3-8c88-d61838b8c2a3",
   "metadata": {},
   "outputs": [
    {
     "name": "stdout",
     "output_type": "stream",
     "text": [
      "This is lec info with teacher perspective\n",
      "This is lec info with student perspective\n"
     ]
    }
   ],
   "source": [
    "parcer(class_obj)"
   ]
  },
  {
   "cell_type": "code",
   "execution_count": 15,
   "id": "b07db33b-42e5-4955-876a-57e0df194183",
   "metadata": {},
   "outputs": [],
   "source": [
    "#Polymorphism in OOPS takes places in two ways:\n",
    "#Method overloading >> python doesnt support true method overloading\n",
    "#Method overriding"
   ]
  },
  {
   "cell_type": "code",
   "execution_count": null,
   "id": "3ab4720f-ee66-4abd-ab48-ccfd33d8a050",
   "metadata": {},
   "outputs": [],
   "source": [
    "#method overloading"
   ]
  },
  {
   "cell_type": "code",
   "execution_count": 16,
   "id": "704fc5b8-413a-443a-afe2-69830f8a3c4a",
   "metadata": {},
   "outputs": [],
   "source": [
    "class Student:\n",
    "    def student(self):\n",
    "        print(\"Wecome to pwskills class\")\n",
    "    def student(self, name = \"\"):\n",
    "        print(\"Wecome to pwskills class\", name)\n",
    "    def student(self, name = \"\", course = \"\"):\n",
    "        print(\"Wecome to pwskills class\", name, course)"
   ]
  },
  {
   "cell_type": "code",
   "execution_count": 18,
   "id": "6c83bcd6-11c9-4d30-8e14-ddffeaf192ed",
   "metadata": {},
   "outputs": [],
   "source": [
    "stud = Student()"
   ]
  },
  {
   "cell_type": "code",
   "execution_count": 19,
   "id": "9734ba88-702f-4460-868d-31541ba923e4",
   "metadata": {},
   "outputs": [
    {
     "name": "stdout",
     "output_type": "stream",
     "text": [
      "Wecome to pwskills class  \n"
     ]
    }
   ],
   "source": [
    "stud.student()"
   ]
  },
  {
   "cell_type": "code",
   "execution_count": 20,
   "id": "086b03a5-7311-4d99-9128-9fe087cde5f9",
   "metadata": {},
   "outputs": [
    {
     "name": "stdout",
     "output_type": "stream",
     "text": [
      "Wecome to pwskills class Ajay \n"
     ]
    }
   ],
   "source": [
    "stud.student(\"Ajay\")"
   ]
  },
  {
   "cell_type": "code",
   "execution_count": 21,
   "id": "10b17029-2c8f-4eff-9d7b-3df965ac9d07",
   "metadata": {},
   "outputs": [
    {
     "name": "stdout",
     "output_type": "stream",
     "text": [
      "Wecome to pwskills class Ajay DS\n"
     ]
    }
   ],
   "source": [
    "stud.student(\"Ajay\", \"DS\")"
   ]
  },
  {
   "cell_type": "code",
   "execution_count": 22,
   "id": "0a8f9622-b339-4117-9cfc-f371b972b795",
   "metadata": {},
   "outputs": [],
   "source": [
    "#method overloading >> student method is taking different forms, the last methods overloads the previous ones in the same class\n",
    "class Student:\n",
    "    def student(self, name = \"\", course = \"\"):\n",
    "        print(\"Wecome to pwskills class\", name, course)"
   ]
  },
  {
   "cell_type": "code",
   "execution_count": 23,
   "id": "bbdddd41-e33a-4034-8f3a-36ac2e2ed0cf",
   "metadata": {},
   "outputs": [
    {
     "name": "stdout",
     "output_type": "stream",
     "text": [
      "Wecome to pwskills class  \n"
     ]
    }
   ],
   "source": [
    "stud = Student()\n",
    "stud.student()"
   ]
  },
  {
   "cell_type": "code",
   "execution_count": 24,
   "id": "c9b5df5b-6d0b-45c6-b93d-17970d1d37ab",
   "metadata": {},
   "outputs": [
    {
     "name": "stdout",
     "output_type": "stream",
     "text": [
      "Wecome to pwskills class Ajay \n"
     ]
    }
   ],
   "source": [
    "stud.student(\"Ajay\")"
   ]
  },
  {
   "cell_type": "code",
   "execution_count": 25,
   "id": "70dc6d12-c61a-4b9d-ab93-fae1ef544207",
   "metadata": {},
   "outputs": [
    {
     "name": "stdout",
     "output_type": "stream",
     "text": [
      "Wecome to pwskills class Ajay DS\n"
     ]
    }
   ],
   "source": [
    "stud.student(\"Ajay\", \"DS\")"
   ]
  },
  {
   "cell_type": "code",
   "execution_count": 26,
   "id": "a9662715-9dbd-46da-af87-ce88f9faca14",
   "metadata": {},
   "outputs": [],
   "source": [
    "#method overloading happens in the same class"
   ]
  },
  {
   "cell_type": "code",
   "execution_count": 27,
   "id": "68766aed-5ce2-4f64-96ea-118c9a536dce",
   "metadata": {},
   "outputs": [],
   "source": [
    "#method overriding >> method in parent class and child class with same signature, the child class method will be executed"
   ]
  },
  {
   "cell_type": "code",
   "execution_count": 28,
   "id": "c60b4626-669c-4852-8559-6fa276316a58",
   "metadata": {},
   "outputs": [],
   "source": [
    "class Animal:\n",
    "    def sound(self):\n",
    "        print(\"Animal Sound\")\n",
    "class Cat(Animal):\n",
    "    def sound(self):\n",
    "        print(\"cat meows\")"
   ]
  },
  {
   "cell_type": "code",
   "execution_count": 29,
   "id": "41c5468a-c28a-4e1e-ac4e-eb76a2d3d6bd",
   "metadata": {},
   "outputs": [],
   "source": [
    "anm = Animal()"
   ]
  },
  {
   "cell_type": "code",
   "execution_count": 30,
   "id": "523ab5be-e19c-4158-bc17-684724e28f68",
   "metadata": {},
   "outputs": [
    {
     "name": "stdout",
     "output_type": "stream",
     "text": [
      "Animal Sound\n"
     ]
    }
   ],
   "source": [
    "anm.sound() #Animal class"
   ]
  },
  {
   "cell_type": "code",
   "execution_count": 31,
   "id": "59888453-7834-4d81-b5a2-a422b03449d4",
   "metadata": {},
   "outputs": [
    {
     "name": "stdout",
     "output_type": "stream",
     "text": [
      "cat meows\n"
     ]
    }
   ],
   "source": [
    "cat = Cat()\n",
    "cat.sound() #cat class"
   ]
  },
  {
   "cell_type": "code",
   "execution_count": 32,
   "id": "dc61e872-281b-41fd-8346-3c37f32b1858",
   "metadata": {},
   "outputs": [],
   "source": [
    "#Encapsulation>> means hiding something\n",
    "#bundling of data and methods of a class\n",
    "#access modifier>>public, protected, private"
   ]
  },
  {
   "cell_type": "code",
   "execution_count": 45,
   "id": "4a9a58d6-1af7-451e-9327-d473c9012a54",
   "metadata": {},
   "outputs": [],
   "source": [
    "#public>>accessible from anywhere from outside/inside of class"
   ]
  },
  {
   "cell_type": "code",
   "execution_count": 44,
   "id": "10eb053d-404d-4a77-96c2-cc2a327c0dd7",
   "metadata": {},
   "outputs": [],
   "source": [
    "class Student:\n",
    "    def __init__(self, name, degree):\n",
    "        self.name = name\n",
    "        self.degree = degree"
   ]
  },
  {
   "cell_type": "code",
   "execution_count": 37,
   "id": "9a20f93d-96c3-4bbe-9fef-6d20cae66955",
   "metadata": {},
   "outputs": [],
   "source": [
    "stud1 = Student(\"Ram\", \"Masters\")"
   ]
  },
  {
   "cell_type": "code",
   "execution_count": 38,
   "id": "1c750e78-9a3b-47a9-b5a9-1ff41c5a75db",
   "metadata": {},
   "outputs": [
    {
     "data": {
      "text/plain": [
       "'Ram'"
      ]
     },
     "execution_count": 38,
     "metadata": {},
     "output_type": "execute_result"
    }
   ],
   "source": [
    "stud1.name"
   ]
  },
  {
   "cell_type": "code",
   "execution_count": 39,
   "id": "612ffaf3-0a77-4152-a080-5b1c8df2d6b2",
   "metadata": {},
   "outputs": [
    {
     "data": {
      "text/plain": [
       "'Masters'"
      ]
     },
     "execution_count": 39,
     "metadata": {},
     "output_type": "execute_result"
    }
   ],
   "source": [
    "stud1.degree"
   ]
  },
  {
   "cell_type": "code",
   "execution_count": 41,
   "id": "e1e6642b-a512-4e96-9beb-5637c8eb09f8",
   "metadata": {},
   "outputs": [
    {
     "data": {
      "text/plain": [
       "'Bach'"
      ]
     },
     "execution_count": 41,
     "metadata": {},
     "output_type": "execute_result"
    }
   ],
   "source": [
    "stud2 = Student(\"Sam\", \"Bach\")\n",
    "stud2.degree"
   ]
  },
  {
   "cell_type": "code",
   "execution_count": 42,
   "id": "9fa74349-7641-4eb0-9d8e-25e341fedf2b",
   "metadata": {},
   "outputs": [],
   "source": [
    "stud2.degree = \"Phd\""
   ]
  },
  {
   "cell_type": "code",
   "execution_count": 43,
   "id": "7ee8957b-7197-454d-8d30-11c4ae203a49",
   "metadata": {},
   "outputs": [
    {
     "data": {
      "text/plain": [
       "'Phd'"
      ]
     },
     "execution_count": 43,
     "metadata": {},
     "output_type": "execute_result"
    }
   ],
   "source": [
    "stud2.degree"
   ]
  },
  {
   "cell_type": "code",
   "execution_count": 50,
   "id": "ad9f8475-36be-47a4-9357-d1a692389a8e",
   "metadata": {},
   "outputs": [],
   "source": [
    "#accessing the public data member inside the other method of same class\n",
    "class Student:\n",
    "    def __init__(self, name, degree):\n",
    "        self.name = name\n",
    "        self.degree = degree\n",
    "        \n",
    "    def show(self):\n",
    "        #accessing the  public data member\n",
    "        print(\"name\", self.name, 'degree', self.degree)\n"
   ]
  },
  {
   "cell_type": "code",
   "execution_count": 48,
   "id": "1fa2ce52-3a81-41c7-bd39-146efae7c019",
   "metadata": {},
   "outputs": [],
   "source": [
    "aj = Student(\"Ajay\", \"Masters\")"
   ]
  },
  {
   "cell_type": "code",
   "execution_count": 49,
   "id": "d035b038-c05a-4927-9aa6-b299f2314dd2",
   "metadata": {},
   "outputs": [
    {
     "name": "stdout",
     "output_type": "stream",
     "text": [
      "name Ajay degree Masters\n"
     ]
    }
   ],
   "source": [
    "aj.show()"
   ]
  },
  {
   "cell_type": "code",
   "execution_count": 51,
   "id": "71526c26-ec69-4748-9a73-d4173e13dd62",
   "metadata": {},
   "outputs": [
    {
     "data": {
      "text/plain": [
       "'Ajay'"
      ]
     },
     "execution_count": 51,
     "metadata": {},
     "output_type": "execute_result"
    }
   ],
   "source": [
    "aj.name"
   ]
  },
  {
   "cell_type": "code",
   "execution_count": 52,
   "id": "698b168f-7a33-41a9-9cc6-9cb45a2336f0",
   "metadata": {},
   "outputs": [
    {
     "data": {
      "text/plain": [
       "'Masters'"
      ]
     },
     "execution_count": 52,
     "metadata": {},
     "output_type": "execute_result"
    }
   ],
   "source": [
    "aj.degree"
   ]
  },
  {
   "cell_type": "code",
   "execution_count": 46,
   "id": "07194732-2c6e-40e0-9bf4-f6e461a856bb",
   "metadata": {},
   "outputs": [],
   "source": [
    "#private >> the data and method is only accessible within its class, use __ to make private"
   ]
  },
  {
   "cell_type": "code",
   "execution_count": 63,
   "id": "47551227-9045-4871-a553-0cfca2cd04b9",
   "metadata": {},
   "outputs": [],
   "source": [
    "class Student:\n",
    "    def __init__(self, name, degree):\n",
    "        self.name = name\n",
    "        self.__degree = degree #private data\n",
    "        \n",
    "    def show(self):\n",
    "        #accessing the private data member\n",
    "        print(\"name\", self.name, 'degree', self.__degree)"
   ]
  },
  {
   "cell_type": "code",
   "execution_count": 64,
   "id": "c78aa09b-31fa-406f-989a-724e7936b6fa",
   "metadata": {},
   "outputs": [],
   "source": [
    "aj = Student(\"Ajay\", \"Masters\")"
   ]
  },
  {
   "cell_type": "code",
   "execution_count": 65,
   "id": "85c3db53-ab56-4a25-8fa4-594dfe576252",
   "metadata": {},
   "outputs": [
    {
     "data": {
      "text/plain": [
       "'Ajay'"
      ]
     },
     "execution_count": 65,
     "metadata": {},
     "output_type": "execute_result"
    }
   ],
   "source": [
    "aj.name"
   ]
  },
  {
   "cell_type": "code",
   "execution_count": 66,
   "id": "0c4fc7f8-5682-4a26-b3a0-f59904de21c6",
   "metadata": {},
   "outputs": [
    {
     "name": "stdout",
     "output_type": "stream",
     "text": [
      "name Ajay degree Masters\n"
     ]
    }
   ],
   "source": [
    "aj.show()"
   ]
  },
  {
   "cell_type": "code",
   "execution_count": 67,
   "id": "d72d6c47-f8b3-4e49-bd89-0f8d36b3bc97",
   "metadata": {},
   "outputs": [
    {
     "ename": "AttributeError",
     "evalue": "'Student' object has no attribute 'degree'",
     "output_type": "error",
     "traceback": [
      "\u001b[0;31m---------------------------------------------------------------------------\u001b[0m",
      "\u001b[0;31mAttributeError\u001b[0m                            Traceback (most recent call last)",
      "Cell \u001b[0;32mIn[67], line 1\u001b[0m\n\u001b[0;32m----> 1\u001b[0m \u001b[43maj\u001b[49m\u001b[38;5;241;43m.\u001b[39;49m\u001b[43mdegree\u001b[49m \u001b[38;5;66;03m#it will throw an error as degree is now private data\u001b[39;00m\n",
      "\u001b[0;31mAttributeError\u001b[0m: 'Student' object has no attribute 'degree'"
     ]
    }
   ],
   "source": [
    "aj.degree #it will throw an error as degree is now private data"
   ]
  },
  {
   "cell_type": "code",
   "execution_count": 68,
   "id": "067205fe-ddb9-4e30-82f5-b96c7c07388b",
   "metadata": {},
   "outputs": [
    {
     "ename": "AttributeError",
     "evalue": "'Student' object has no attribute '__degree'",
     "output_type": "error",
     "traceback": [
      "\u001b[0;31m---------------------------------------------------------------------------\u001b[0m",
      "\u001b[0;31mAttributeError\u001b[0m                            Traceback (most recent call last)",
      "Cell \u001b[0;32mIn[68], line 1\u001b[0m\n\u001b[0;32m----> 1\u001b[0m \u001b[43maj\u001b[49m\u001b[38;5;241;43m.\u001b[39;49m\u001b[43m__degree\u001b[49m \u001b[38;5;66;03m#it will throw an error as degree is now private data\u001b[39;00m\n",
      "\u001b[0;31mAttributeError\u001b[0m: 'Student' object has no attribute '__degree'"
     ]
    }
   ],
   "source": [
    "aj.__degree #it will throw an error as degree is now private data"
   ]
  },
  {
   "cell_type": "code",
   "execution_count": 69,
   "id": "a88c97c3-f65a-4646-bd9e-1808b70002c6",
   "metadata": {},
   "outputs": [
    {
     "data": {
      "text/plain": [
       "'Masters'"
      ]
     },
     "execution_count": 69,
     "metadata": {},
     "output_type": "execute_result"
    }
   ],
   "source": [
    "aj._Student__degree #say you want to access the private variable using class name"
   ]
  },
  {
   "cell_type": "code",
   "execution_count": 70,
   "id": "f1b15f6e-50cf-4b35-9750-e36a4bc97f24",
   "metadata": {},
   "outputs": [],
   "source": [
    "#a method private\n",
    "\n",
    "class Student:\n",
    "    def __init__(self, name, degree):\n",
    "        self.name = name\n",
    "        self.__degree = degree #private data\n",
    "        \n",
    "    def show(self):\n",
    "        #accessing the private data member\n",
    "        print(\"name\", self.name, 'degree', self.__degree)\n",
    "        \n",
    "    def __private_method(self):\n",
    "        print(\"This is a private method\")"
   ]
  },
  {
   "cell_type": "code",
   "execution_count": 71,
   "id": "21673811-3505-49f7-8d50-85b436c35608",
   "metadata": {},
   "outputs": [],
   "source": [
    "obj1 = Student(\"Ajay\", \"Masters\")"
   ]
  },
  {
   "cell_type": "code",
   "execution_count": 72,
   "id": "fc535ec4-575d-442d-ae8e-227328e2daad",
   "metadata": {},
   "outputs": [
    {
     "ename": "AttributeError",
     "evalue": "'Student' object has no attribute 'private_method'",
     "output_type": "error",
     "traceback": [
      "\u001b[0;31m---------------------------------------------------------------------------\u001b[0m",
      "\u001b[0;31mAttributeError\u001b[0m                            Traceback (most recent call last)",
      "Cell \u001b[0;32mIn[72], line 1\u001b[0m\n\u001b[0;32m----> 1\u001b[0m \u001b[43mobj1\u001b[49m\u001b[38;5;241;43m.\u001b[39;49m\u001b[43mprivate_method\u001b[49m()\n",
      "\u001b[0;31mAttributeError\u001b[0m: 'Student' object has no attribute 'private_method'"
     ]
    }
   ],
   "source": [
    "obj1.private_method() #throw an error"
   ]
  },
  {
   "cell_type": "code",
   "execution_count": 73,
   "id": "cf81a5e4-2674-41aa-90d6-1531060febe6",
   "metadata": {},
   "outputs": [
    {
     "ename": "AttributeError",
     "evalue": "'Student' object has no attribute '__private_method'",
     "output_type": "error",
     "traceback": [
      "\u001b[0;31m---------------------------------------------------------------------------\u001b[0m",
      "\u001b[0;31mAttributeError\u001b[0m                            Traceback (most recent call last)",
      "Cell \u001b[0;32mIn[73], line 1\u001b[0m\n\u001b[0;32m----> 1\u001b[0m \u001b[43mobj1\u001b[49m\u001b[38;5;241;43m.\u001b[39;49m\u001b[43m__private_method\u001b[49m() \u001b[38;5;66;03m#throw an error\u001b[39;00m\n",
      "\u001b[0;31mAttributeError\u001b[0m: 'Student' object has no attribute '__private_method'"
     ]
    }
   ],
   "source": [
    "obj1.__private_method() #throw an error"
   ]
  },
  {
   "cell_type": "code",
   "execution_count": 74,
   "id": "cb4bcd5a-d478-4ed3-b8ae-cd070d745b4e",
   "metadata": {},
   "outputs": [
    {
     "name": "stdout",
     "output_type": "stream",
     "text": [
      "This is a private method\n"
     ]
    }
   ],
   "source": [
    "obj1._Student__private_method() #accesing private method using class name"
   ]
  },
  {
   "cell_type": "code",
   "execution_count": 75,
   "id": "07ba72cb-d002-4d2d-a6cb-f5b9b5d6d753",
   "metadata": {},
   "outputs": [],
   "source": [
    "#way to provide an option to see the private method>> a wrapper\n",
    "\n",
    "class Student:\n",
    "    def __init__(self, name, degree):\n",
    "        self.name = name\n",
    "        self.__degree = degree #private data\n",
    "        \n",
    "    def show(self):\n",
    "        #accessing the private data member\n",
    "        print(\"name\", self.name, 'degree', self.__degree)\n",
    "        \n",
    "    def __private_method(self):\n",
    "        print(\"This is a private method\")\n",
    "        \n",
    "    def access_private_method(self):\n",
    "        self.__private_method()"
   ]
  },
  {
   "cell_type": "code",
   "execution_count": 76,
   "id": "5e8a3675-9f85-4f1f-81a0-e52ca176f837",
   "metadata": {},
   "outputs": [
    {
     "name": "stdout",
     "output_type": "stream",
     "text": [
      "This is a private method\n"
     ]
    }
   ],
   "source": [
    "obj1 = Student(\"AJ\", \"Masters\")\n",
    "obj1.access_private_method()"
   ]
  },
  {
   "cell_type": "code",
   "execution_count": 77,
   "id": "4bea4a32-ef57-48dd-898c-aecd1e71eb17",
   "metadata": {},
   "outputs": [],
   "source": [
    "#another use case of modifying the private variable and accessing it\n",
    "class Car:\n",
    "    def __init__(self, year, make, speed, model):\n",
    "        self.__year = year\n",
    "        self.__make = make\n",
    "        self.__speed = speed\n",
    "        self.__model = model"
   ]
  },
  {
   "cell_type": "code",
   "execution_count": 79,
   "id": "e0871c6a-aed4-4059-aff7-91586efd61f8",
   "metadata": {},
   "outputs": [
    {
     "ename": "AttributeError",
     "evalue": "'Car' object has no attribute 'year'",
     "output_type": "error",
     "traceback": [
      "\u001b[0;31m---------------------------------------------------------------------------\u001b[0m",
      "\u001b[0;31mAttributeError\u001b[0m                            Traceback (most recent call last)",
      "Cell \u001b[0;32mIn[79], line 2\u001b[0m\n\u001b[1;32m      1\u001b[0m c1 \u001b[38;5;241m=\u001b[39m Car(\u001b[38;5;124m\"\u001b[39m\u001b[38;5;124m1995\u001b[39m\u001b[38;5;124m\"\u001b[39m, \u001b[38;5;124m\"\u001b[39m\u001b[38;5;124mMaruti\u001b[39m\u001b[38;5;124m\"\u001b[39m, \u001b[38;5;124m\"\u001b[39m\u001b[38;5;124m80\u001b[39m\u001b[38;5;124m\"\u001b[39m, \u001b[38;5;124m\"\u001b[39m\u001b[38;5;124mBrezza\u001b[39m\u001b[38;5;124m\"\u001b[39m)\n\u001b[0;32m----> 2\u001b[0m \u001b[43mc1\u001b[49m\u001b[38;5;241;43m.\u001b[39;49m\u001b[43myear\u001b[49m\n",
      "\u001b[0;31mAttributeError\u001b[0m: 'Car' object has no attribute 'year'"
     ]
    }
   ],
   "source": [
    "c1 = Car(\"1995\", \"Maruti\", \"80\", \"Brezza\")\n",
    "c1.year #since all variables are private, it will throw an error"
   ]
  },
  {
   "cell_type": "code",
   "execution_count": 80,
   "id": "d685bb45-143b-4f77-9f22-3d2e80639adb",
   "metadata": {},
   "outputs": [],
   "source": [
    "class Car:\n",
    "    def __init__(self, year, make, speed, model):\n",
    "        self.__year = year\n",
    "        self.__make = make\n",
    "        self.__speed = speed\n",
    "        self.__model = model\n",
    "    def set_speed(self, speed):\n",
    "        self.__speed = 0 if speed < 0 else speed\n",
    "    def get_speed(self):\n",
    "        return self.__speed"
   ]
  },
  {
   "cell_type": "code",
   "execution_count": 81,
   "id": "aaa0f6d0-50ac-42f0-ac0a-4c809f79dbde",
   "metadata": {},
   "outputs": [
    {
     "data": {
      "text/plain": [
       "'80'"
      ]
     },
     "execution_count": 81,
     "metadata": {},
     "output_type": "execute_result"
    }
   ],
   "source": [
    "c1 = Car(\"1995\", \"Maruti\", \"80\", \"Brezza\")\n",
    "c1.get_speed()"
   ]
  },
  {
   "cell_type": "code",
   "execution_count": 82,
   "id": "ce90a80c-c69c-4b0e-832e-a8ad2c68dd69",
   "metadata": {},
   "outputs": [],
   "source": [
    "c1.set_speed(-1000)"
   ]
  },
  {
   "cell_type": "code",
   "execution_count": 83,
   "id": "0e6610be-4e24-4612-bd4e-20a7006e9b3f",
   "metadata": {},
   "outputs": [
    {
     "data": {
      "text/plain": [
       "0"
      ]
     },
     "execution_count": 83,
     "metadata": {},
     "output_type": "execute_result"
    }
   ],
   "source": [
    "c1.get_speed()"
   ]
  },
  {
   "cell_type": "code",
   "execution_count": 84,
   "id": "33a7ae64-028c-41d0-8136-466794e406d7",
   "metadata": {},
   "outputs": [],
   "source": [
    "c1.set_speed(100)"
   ]
  },
  {
   "cell_type": "code",
   "execution_count": 85,
   "id": "d9ac3203-cbe7-44a5-b1ec-aeb97efa9b33",
   "metadata": {},
   "outputs": [
    {
     "data": {
      "text/plain": [
       "100"
      ]
     },
     "execution_count": 85,
     "metadata": {},
     "output_type": "execute_result"
    }
   ],
   "source": [
    "c1.get_speed()"
   ]
  },
  {
   "cell_type": "code",
   "execution_count": 86,
   "id": "f77859aa-157e-4336-839a-221ede5a2333",
   "metadata": {},
   "outputs": [],
   "source": [
    "#anaother use case\n"
   ]
  },
  {
   "cell_type": "code",
   "execution_count": 87,
   "id": "38863d3a-f519-42fb-9bd7-f0b48df14f7e",
   "metadata": {},
   "outputs": [],
   "source": [
    "class Bank: #either you deposit or withdraw\n",
    "    \n",
    "    def __init__(self, balance):\n",
    "        self.__balance = balance\n",
    "        \n",
    "    def deposit(self, amount): #amount is new deposition\n",
    "        self.__balance = self.__balance + amount\n",
    "    \n",
    "    def withdraw(self, amount):\n",
    "        if self.__balance >= amount:\n",
    "            self.__balance = self.__balance - amount\n",
    "            return True\n",
    "        else:\n",
    "            return False\n",
    "        \n",
    "    def get_balance(self):\n",
    "        return self.__balance"
   ]
  },
  {
   "cell_type": "code",
   "execution_count": 88,
   "id": "92f73255-4b22-4c42-b5c8-bbca275ce7d1",
   "metadata": {},
   "outputs": [],
   "source": [
    "acc1 = Bank(1000)"
   ]
  },
  {
   "cell_type": "code",
   "execution_count": 89,
   "id": "a755ef3f-753a-4855-8ab4-41c1d07851ee",
   "metadata": {},
   "outputs": [
    {
     "data": {
      "text/plain": [
       "1000"
      ]
     },
     "execution_count": 89,
     "metadata": {},
     "output_type": "execute_result"
    }
   ],
   "source": [
    "acc1.get_balance()"
   ]
  },
  {
   "cell_type": "code",
   "execution_count": 90,
   "id": "1c8d59b8-159f-4e8a-95e3-ceca87778b9c",
   "metadata": {},
   "outputs": [],
   "source": [
    "acc1.deposit(500)"
   ]
  },
  {
   "cell_type": "code",
   "execution_count": 91,
   "id": "e7d9672b-e064-4854-be3e-faf5849efb09",
   "metadata": {},
   "outputs": [
    {
     "data": {
      "text/plain": [
       "1500"
      ]
     },
     "execution_count": 91,
     "metadata": {},
     "output_type": "execute_result"
    }
   ],
   "source": [
    "acc1.get_balance()"
   ]
  },
  {
   "cell_type": "code",
   "execution_count": 92,
   "id": "ae3b54cb-ac33-4352-9439-a2b0022bd499",
   "metadata": {},
   "outputs": [
    {
     "data": {
      "text/plain": [
       "True"
      ]
     },
     "execution_count": 92,
     "metadata": {},
     "output_type": "execute_result"
    }
   ],
   "source": [
    "acc1.withdraw(100)"
   ]
  },
  {
   "cell_type": "code",
   "execution_count": 93,
   "id": "e32ffaad-ec77-47c5-b650-cb2a53003039",
   "metadata": {},
   "outputs": [
    {
     "data": {
      "text/plain": [
       "1400"
      ]
     },
     "execution_count": 93,
     "metadata": {},
     "output_type": "execute_result"
    }
   ],
   "source": [
    "acc1.get_balance()"
   ]
  },
  {
   "cell_type": "code",
   "execution_count": 94,
   "id": "69ffb5f1-1e15-4f18-b8df-5ddcfe59ea89",
   "metadata": {},
   "outputs": [
    {
     "data": {
      "text/plain": [
       "False"
      ]
     },
     "execution_count": 94,
     "metadata": {},
     "output_type": "execute_result"
    }
   ],
   "source": [
    "acc1.withdraw(1500)"
   ]
  },
  {
   "cell_type": "code",
   "execution_count": 95,
   "id": "3c576653-4513-43ca-b493-6ba0dc438fb5",
   "metadata": {},
   "outputs": [],
   "source": [
    "#protected>> within the class and its subclass, protected member can be access, (_)"
   ]
  },
  {
   "cell_type": "code",
   "execution_count": 101,
   "id": "632402cc-4c99-4da5-9254-73a7b1c91e68",
   "metadata": {},
   "outputs": [],
   "source": [
    "class College:\n",
    "    def __init__(self):\n",
    "        self._college_name = \"PWSkills\"\n",
    "class Student(College):\n",
    "    def __init__(self, name):\n",
    "        self.name = name\n",
    "        College.__init__(self) #accesing variable of base class>>classname__init__(self)\n",
    "        \n",
    "    def show(self):\n",
    "        print(\"name\", self.name, \"college\", self._college_name) #directly call the base class variable using \"_\""
   ]
  },
  {
   "cell_type": "code",
   "execution_count": 102,
   "id": "1cdc18d4-98bc-45ae-94ca-cfc627eb7d4e",
   "metadata": {},
   "outputs": [],
   "source": [
    "stud = Student(\"Ajay\")"
   ]
  },
  {
   "cell_type": "code",
   "execution_count": 103,
   "id": "87385616-8992-4983-be1d-c5b18321eb72",
   "metadata": {},
   "outputs": [
    {
     "data": {
      "text/plain": [
       "'Ajay'"
      ]
     },
     "execution_count": 103,
     "metadata": {},
     "output_type": "execute_result"
    }
   ],
   "source": [
    "stud.name"
   ]
  },
  {
   "cell_type": "code",
   "execution_count": 104,
   "id": "7151747e-8272-4d51-864c-18ed54d748e5",
   "metadata": {},
   "outputs": [
    {
     "name": "stdout",
     "output_type": "stream",
     "text": [
      "name Ajay college PWSkills\n"
     ]
    }
   ],
   "source": [
    "stud.show()"
   ]
  },
  {
   "cell_type": "code",
   "execution_count": 105,
   "id": "32e241ff-c01f-4085-b1db-0b891d3d82b1",
   "metadata": {},
   "outputs": [
    {
     "data": {
      "text/plain": [
       "'PWSkills'"
      ]
     },
     "execution_count": 105,
     "metadata": {},
     "output_type": "execute_result"
    }
   ],
   "source": [
    "coll = College()\n",
    "coll._college_name #accessing the protected variable"
   ]
  },
  {
   "cell_type": "code",
   "execution_count": null,
   "id": "6a698435-ef62-445f-9f05-5b641af57aad",
   "metadata": {},
   "outputs": [],
   "source": [
    "#anothe rway to access the data of base class using super()\n",
    "\n"
   ]
  }
 ],
 "metadata": {
  "kernelspec": {
   "display_name": "Python 3 (ipykernel)",
   "language": "python",
   "name": "python3"
  },
  "language_info": {
   "codemirror_mode": {
    "name": "ipython",
    "version": 3
   },
   "file_extension": ".py",
   "mimetype": "text/x-python",
   "name": "python",
   "nbconvert_exporter": "python",
   "pygments_lexer": "ipython3",
   "version": "3.10.8"
  }
 },
 "nbformat": 4,
 "nbformat_minor": 5
}
