{
 "cells": [
  {
   "cell_type": "code",
   "execution_count": 1,
   "id": "ccae2d6e-649d-44f2-ae1a-f77a2adba664",
   "metadata": {},
   "outputs": [],
   "source": [
    "#inheritance>> refers to process of child class receiving the properties of parent class\n",
    "#syntax\n",
    "# class BaseClass:\n",
    "#     #body of base class\n",
    "# class DerivedClass(BaseClass):\n",
    "#     #body of derived class"
   ]
  },
  {
   "cell_type": "code",
   "execution_count": 2,
   "id": "bed7144a-d77c-4290-aba9-39f8dec43b84",
   "metadata": {},
   "outputs": [],
   "source": [
    "#single inheritance >> when a derived class has only one parent class"
   ]
  },
  {
   "attachments": {
    "c74c5ec1-ee22-42cd-96b6-d46cac01f1a9.png": {
     "image/png": "[encoded data removed]"
    }
   },
   "cell_type": "markdown",
   "id": "5d18e7eb-8f58-4e6b-a85b-19d3984e9153",
   "metadata": {},
   "source": [
    "![image.png](attachment:c74c5ec1-ee22-42cd-96b6-d46cac01f1a9.png)"
   ]
  },
  {
   "cell_type": "code",
   "execution_count": 8,
   "id": "ea1483a1-1a6d-4732-9a3d-f131d8d72f49",
   "metadata": {},
   "outputs": [],
   "source": [
    "#example\n",
    "class Father:\n",
    "    def father_property(self):\n",
    "        print(\"This is the father property\")\n",
    "        "
   ]
  },
  {
   "cell_type": "code",
   "execution_count": 9,
   "id": "fe89d744-8582-43d0-8610-e9ba2405feaf",
   "metadata": {},
   "outputs": [],
   "source": [
    "class Son(Father):\n",
    "    def job(self):\n",
    "        print(\"Son has property from job\")"
   ]
  },
  {
   "cell_type": "code",
   "execution_count": 10,
   "id": "f18e2a4d-842e-4c77-bc48-a1cc4cd245b2",
   "metadata": {},
   "outputs": [],
   "source": [
    "child_obj = Son() #object/instance of Son class"
   ]
  },
  {
   "cell_type": "code",
   "execution_count": 11,
   "id": "304c3f26-88f5-4eeb-aa3e-ef73c0e714f6",
   "metadata": {},
   "outputs": [
    {
     "name": "stdout",
     "output_type": "stream",
     "text": [
      "Son has property from job\n"
     ]
    }
   ],
   "source": [
    "#A child can have his property and also his father property\n",
    "child_obj.job()"
   ]
  },
  {
   "cell_type": "code",
   "execution_count": 12,
   "id": "e35d9d38-c337-4835-a8f1-9396a4121445",
   "metadata": {},
   "outputs": [
    {
     "name": "stdout",
     "output_type": "stream",
     "text": [
      "This is the father property\n"
     ]
    }
   ],
   "source": [
    "child_obj.father_property()"
   ]
  },
  {
   "cell_type": "code",
   "execution_count": 13,
   "id": "ac108c31-eff3-4cb6-9989-0cbd35e2b56e",
   "metadata": {},
   "outputs": [
    {
     "name": "stdout",
     "output_type": "stream",
     "text": [
      "This is the father property\n"
     ]
    }
   ],
   "source": [
    "#A father will have only his property\n",
    "father_obj = Father()\n",
    "father_obj.father_property()"
   ]
  },
  {
   "cell_type": "code",
   "execution_count": 14,
   "id": "45451d29-7665-4877-9476-7eff38d71591",
   "metadata": {},
   "outputs": [
    {
     "ename": "AttributeError",
     "evalue": "'Father' object has no attribute 'job'",
     "output_type": "error",
     "traceback": [
      "\u001b[0;31m---------------------------------------------------------------------------\u001b[0m",
      "\u001b[0;31mAttributeError\u001b[0m                            Traceback (most recent call last)",
      "Cell \u001b[0;32mIn[14], line 1\u001b[0m\n\u001b[0;32m----> 1\u001b[0m \u001b[43mfather_obj\u001b[49m\u001b[38;5;241;43m.\u001b[39;49m\u001b[43mjob\u001b[49m()\n",
      "\u001b[0;31mAttributeError\u001b[0m: 'Father' object has no attribute 'job'"
     ]
    }
   ],
   "source": [
    "father_obj.job() #it will throw an error"
   ]
  },
  {
   "cell_type": "code",
   "execution_count": 15,
   "id": "9b4f7837-4971-4f64-b97d-2a5f6a95a28e",
   "metadata": {},
   "outputs": [],
   "source": [
    "#parent class will not have access to the property(method/attribute) of child class but child class will have access to both"
   ]
  },
  {
   "cell_type": "code",
   "execution_count": 18,
   "id": "057668b0-8349-4dc1-856e-e20bf71f1ad8",
   "metadata": {},
   "outputs": [],
   "source": [
    "#use case\n",
    "class Fruit:\n",
    "    def fruit_info(self):\n",
    "        print(\"Inside Parent class\")\n",
    "class Apple(Fruit):\n",
    "    def apple_info(self):\n",
    "        print(\"Inside the child class\")"
   ]
  },
  {
   "cell_type": "code",
   "execution_count": 19,
   "id": "a9d8f13a-b302-4e7b-9239-267aa4935b54",
   "metadata": {},
   "outputs": [
    {
     "name": "stdout",
     "output_type": "stream",
     "text": [
      "Inside the child class\n"
     ]
    }
   ],
   "source": [
    "obj = Apple()\n",
    "obj.apple_info()"
   ]
  },
  {
   "cell_type": "code",
   "execution_count": 20,
   "id": "82bb5436-fd2b-4218-b361-10d9cb3c1a99",
   "metadata": {},
   "outputs": [
    {
     "name": "stdout",
     "output_type": "stream",
     "text": [
      "Inside Parent class\n"
     ]
    }
   ],
   "source": [
    "obj.fruit_info()"
   ]
  },
  {
   "cell_type": "code",
   "execution_count": 21,
   "id": "4d62c4c0-2a0f-4b22-a21d-939b1385500a",
   "metadata": {},
   "outputs": [
    {
     "name": "stdout",
     "output_type": "stream",
     "text": [
      "Inside Parent class\n"
     ]
    }
   ],
   "source": [
    "par = Fruit()\n",
    "par.fruit_info()"
   ]
  },
  {
   "cell_type": "code",
   "execution_count": 22,
   "id": "04ea1422-a01f-4941-880f-cf2c08adb931",
   "metadata": {},
   "outputs": [
    {
     "ename": "AttributeError",
     "evalue": "'Fruit' object has no attribute 'apple_info'",
     "output_type": "error",
     "traceback": [
      "\u001b[0;31m---------------------------------------------------------------------------\u001b[0m",
      "\u001b[0;31mAttributeError\u001b[0m                            Traceback (most recent call last)",
      "Cell \u001b[0;32mIn[22], line 1\u001b[0m\n\u001b[0;32m----> 1\u001b[0m \u001b[43mpar\u001b[49m\u001b[38;5;241;43m.\u001b[39;49m\u001b[43mapple_info\u001b[49m()\n",
      "\u001b[0;31mAttributeError\u001b[0m: 'Fruit' object has no attribute 'apple_info'"
     ]
    }
   ],
   "source": [
    "par.apple_info() #gives error"
   ]
  },
  {
   "cell_type": "code",
   "execution_count": 25,
   "id": "c1de1898-2c74-4bcd-949f-ee9525b70160",
   "metadata": {},
   "outputs": [],
   "source": [
    "#method overriding >> re-writing/re-defining methods of parent class in derived/child class\n",
    "class Fruit:\n",
    "    def fruit_info(self):\n",
    "        print(\"Inside Parent class\")\n",
    "class Apple(Fruit):\n",
    "    def fruit_info(self):\n",
    "        print(\"Inside the child class (fruit info)\")\n",
    "    def apple_info(self):\n",
    "        print(\"Inside the child class\")\n",
    "        \n",
    "#method overriding>> child class is very powerfull\n",
    "#method overriding happend between two class"
   ]
  },
  {
   "cell_type": "code",
   "execution_count": 27,
   "id": "dbe7dd37-d075-4555-8ffa-3a238b113ec3",
   "metadata": {},
   "outputs": [
    {
     "name": "stdout",
     "output_type": "stream",
     "text": [
      "Inside the child class (fruit info)\n"
     ]
    }
   ],
   "source": [
    "obj = Apple()\n",
    "obj.fruit_info()"
   ]
  },
  {
   "cell_type": "code",
   "execution_count": 28,
   "id": "1fd54d9a-9cd2-420b-8072-56933e267406",
   "metadata": {},
   "outputs": [],
   "source": [
    "#mult-level inheritance"
   ]
  },
  {
   "attachments": {
    "342bcd57-3d34-4de3-a047-03934b3eebae.png": {
     "image/png": "[encoded data removed]"
    }
   },
   "cell_type": "markdown",
   "id": "3092fb06-e07b-4c59-a915-21d0d9811626",
   "metadata": {},
   "source": [
    "![image.png](attachment:342bcd57-3d34-4de3-a047-03934b3eebae.png)"
   ]
  },
  {
   "cell_type": "code",
   "execution_count": 31,
   "id": "6dc92534-ec18-4844-853b-fc7b7f88c003",
   "metadata": {},
   "outputs": [],
   "source": [
    "class GrandFather:\n",
    "    def prop_grand_father(self):\n",
    "        print(\"I am your grand father, this is my property\")\n",
    "class Father(GrandFather):\n",
    "    def prop_father(self):\n",
    "        print(\"I am your father, I am having my and your grandfather's property\")\n",
    "class Son(Father):\n",
    "    def prop_son(self):\n",
    "        print(\"I am the King. I am having all the properties\")"
   ]
  },
  {
   "cell_type": "code",
   "execution_count": 32,
   "id": "ac164cf5-9686-4980-87d5-9171a13dd01e",
   "metadata": {},
   "outputs": [
    {
     "name": "stdout",
     "output_type": "stream",
     "text": [
      "I am your father, I am having my and your grandfather's property\n"
     ]
    }
   ],
   "source": [
    "son = Son()\n",
    "son.prop_father()"
   ]
  },
  {
   "cell_type": "code",
   "execution_count": 33,
   "id": "6e6a9125-b913-49f8-9f8e-64d390a60e80",
   "metadata": {},
   "outputs": [
    {
     "name": "stdout",
     "output_type": "stream",
     "text": [
      "I am your grand father, this is my property\n"
     ]
    }
   ],
   "source": [
    "son.prop_grand_father()"
   ]
  },
  {
   "cell_type": "code",
   "execution_count": 34,
   "id": "61a8cd48-ee3a-46a0-bffb-2de223d5da7a",
   "metadata": {},
   "outputs": [
    {
     "name": "stdout",
     "output_type": "stream",
     "text": [
      "I am the King. I am having all the properties\n"
     ]
    }
   ],
   "source": [
    "son.prop_son()"
   ]
  },
  {
   "cell_type": "code",
   "execution_count": 35,
   "id": "ca5b3245-4b41-4f13-8546-3db4daa29b92",
   "metadata": {},
   "outputs": [
    {
     "name": "stdout",
     "output_type": "stream",
     "text": [
      "I am your father, I am having my and your grandfather's property\n"
     ]
    }
   ],
   "source": [
    "fath = Father()\n",
    "fath.prop_father()"
   ]
  },
  {
   "cell_type": "code",
   "execution_count": 36,
   "id": "e731addd-1e3b-49e3-96ac-3b019af32cf1",
   "metadata": {},
   "outputs": [
    {
     "name": "stdout",
     "output_type": "stream",
     "text": [
      "I am your grand father, this is my property\n"
     ]
    }
   ],
   "source": [
    "fath.prop_grand_father()"
   ]
  },
  {
   "cell_type": "code",
   "execution_count": 37,
   "id": "2f37b40a-44f4-46db-9ebb-1f7ac9be7fc1",
   "metadata": {},
   "outputs": [
    {
     "name": "stdout",
     "output_type": "stream",
     "text": [
      "I am your grand father, this is my property\n"
     ]
    }
   ],
   "source": [
    "gf = GrandFather()\n",
    "gf.prop_grand_father()"
   ]
  },
  {
   "cell_type": "code",
   "execution_count": 38,
   "id": "78beb02d-e730-495a-9273-8209bb120ef7",
   "metadata": {},
   "outputs": [],
   "source": [
    "#use case \n",
    "class Vehicle:\n",
    "    def vehicle_info(self):\n",
    "        print(\"Inside vehicle class\")\n",
    "class Car(Vehicle):\n",
    "    def car_info(self):\n",
    "        print(\"Inside the car class\")\n",
    "class SportsCar(Car):\n",
    "    def sports_car_info(self):\n",
    "        print(\"Inside sports car\")"
   ]
  },
  {
   "cell_type": "code",
   "execution_count": 39,
   "id": "a3b5c726-732a-4f34-91f2-35fcefe7f38e",
   "metadata": {},
   "outputs": [
    {
     "name": "stdout",
     "output_type": "stream",
     "text": [
      "Inside sports car\n"
     ]
    }
   ],
   "source": [
    "s1 = SportsCar()\n",
    "s1.sports_car_info()"
   ]
  },
  {
   "cell_type": "code",
   "execution_count": 40,
   "id": "5d5a0e35-f542-4a8c-81fe-fada6f67ab66",
   "metadata": {},
   "outputs": [
    {
     "name": "stdout",
     "output_type": "stream",
     "text": [
      "Inside vehicle class\n"
     ]
    }
   ],
   "source": [
    "s1.vehicle_info()"
   ]
  },
  {
   "cell_type": "code",
   "execution_count": 41,
   "id": "971f44bd-e449-45ae-8dab-3d44cf163510",
   "metadata": {},
   "outputs": [
    {
     "name": "stdout",
     "output_type": "stream",
     "text": [
      "Inside the car class\n"
     ]
    }
   ],
   "source": [
    "s1.car_info()"
   ]
  },
  {
   "cell_type": "code",
   "execution_count": 42,
   "id": "a525a7b0-1f6a-4c2f-91e5-6822b5b400a7",
   "metadata": {},
   "outputs": [],
   "source": [
    "#another example of method overriding\n",
    "class Vehicle:\n",
    "    def vehicle_info(self):\n",
    "        print(\"Inside vehicle class\")\n",
    "class Car(Vehicle):\n",
    "    def car_info(self):\n",
    "        print(\"Inside the car class\")\n",
    "class SportsCar(Car):\n",
    "    def vehicle_info(self):\n",
    "        print(\"Inside sports car\")\n"
   ]
  },
  {
   "cell_type": "code",
   "execution_count": 43,
   "id": "a69432d4-51b9-4961-a942-15bb9281e657",
   "metadata": {},
   "outputs": [
    {
     "name": "stdout",
     "output_type": "stream",
     "text": [
      "Inside sports car\n"
     ]
    }
   ],
   "source": [
    "s1 = SportsCar()\n",
    "s1.vehicle_info() #method overriding>>child class is most powerful"
   ]
  },
  {
   "cell_type": "code",
   "execution_count": 44,
   "id": "1dbf3db6-132f-4178-8be0-bafa955cce2a",
   "metadata": {},
   "outputs": [],
   "source": [
    "#multiple inheritance >> one child class may inherit the propety of mutiple parent class"
   ]
  },
  {
   "attachments": {
    "df243965-84cd-4380-add8-297b589d5b42.png": {
     "image/png": "[encoded data removed]"
    }
   },
   "cell_type": "markdown",
   "id": "bc34f8eb-685f-4e80-b600-4ccf74478aca",
   "metadata": {},
   "source": [
    "![image.png](attachment:df243965-84cd-4380-add8-297b589d5b42.png)"
   ]
  },
  {
   "cell_type": "code",
   "execution_count": 47,
   "id": "c67bc1eb-70bb-4981-bd73-b3dbdc06747c",
   "metadata": {},
   "outputs": [],
   "source": [
    "class ParentClass1:\n",
    "    def method1(self):\n",
    "        print(\"method 1 of parent class 1\")\n",
    "class ParentClass2:\n",
    "    def method2(self):\n",
    "        print(\"method2 of parent class 2\")"
   ]
  },
  {
   "cell_type": "code",
   "execution_count": 48,
   "id": "3a8b4304-b77e-4cb2-be55-8cbb0ffeb3b5",
   "metadata": {},
   "outputs": [],
   "source": [
    "class ChildClass(ParentClass1, ParentClass2):\n",
    "    def method(self):\n",
    "        print(\"method of child class\")"
   ]
  },
  {
   "cell_type": "code",
   "execution_count": 49,
   "id": "53506753-81e1-4c39-8f9d-41fa9e73af00",
   "metadata": {},
   "outputs": [
    {
     "name": "stdout",
     "output_type": "stream",
     "text": [
      "method of child class\n"
     ]
    }
   ],
   "source": [
    "c1 = ChildClass()\n",
    "c1.method()"
   ]
  },
  {
   "cell_type": "code",
   "execution_count": 50,
   "id": "86c7b561-fb0e-47ed-9495-d46b7f3df54d",
   "metadata": {},
   "outputs": [
    {
     "name": "stdout",
     "output_type": "stream",
     "text": [
      "method 1 of parent class 1\n"
     ]
    }
   ],
   "source": [
    "c1.method1()"
   ]
  },
  {
   "cell_type": "code",
   "execution_count": 51,
   "id": "84c80e2c-195e-488d-99a1-da8961bfbf9a",
   "metadata": {},
   "outputs": [
    {
     "name": "stdout",
     "output_type": "stream",
     "text": [
      "method2 of parent class 2\n"
     ]
    }
   ],
   "source": [
    "c1.method2()"
   ]
  },
  {
   "cell_type": "code",
   "execution_count": 52,
   "id": "a25e7d7b-b47e-4024-8011-3928dd2b708e",
   "metadata": {},
   "outputs": [],
   "source": [
    "#diamond problem>> it occurs when a class inherits from 2 or more than 2 class>> will lead to ambiguity in execution of methods\n",
    "#To remove diamond problem>> python uses method resolution order(MRO) algorithm called c3 linearization\n",
    "#meaning that the class that is inherited first in the derived class, that method will be called>>in this case method 1\n",
    "\n",
    "class ParentClass1:\n",
    "    def method_par(self):\n",
    "        print(\"method 1 of parent class 1\")\n",
    "class ParentClass2:\n",
    "    def method_par(self):\n",
    "        print(\"method2 of parent class 2\")\n",
    "class ChildClass(ParentClass1, ParentClass2):\n",
    "    def method(self):\n",
    "        print(\"method of child class\")"
   ]
  },
  {
   "cell_type": "code",
   "execution_count": 53,
   "id": "a9b27eb2-b73f-4619-a86a-a3abf26f2c01",
   "metadata": {},
   "outputs": [
    {
     "name": "stdout",
     "output_type": "stream",
     "text": [
      "method 1 of parent class 1\n"
     ]
    }
   ],
   "source": [
    "c2 = ChildClass()\n",
    "c2.method_par()"
   ]
  },
  {
   "cell_type": "code",
   "execution_count": 56,
   "id": "f5028606-a3b2-405e-a46f-43c8680fbcbb",
   "metadata": {},
   "outputs": [],
   "source": [
    "#diamond problem\n",
    "class A:\n",
    "    def method(self):\n",
    "        print(\"Method of class A\")\n",
    "class B(A):\n",
    "    def method(self):\n",
    "        print(\"Method of class B\")\n",
    "class C(A):\n",
    "    def method(self):\n",
    "        print(\"Method of class C\")\n",
    "class D(B, C):\n",
    "    pass"
   ]
  },
  {
   "cell_type": "code",
   "execution_count": 57,
   "id": "5164389b-fd7b-4a50-913f-dda4c8909549",
   "metadata": {},
   "outputs": [
    {
     "name": "stdout",
     "output_type": "stream",
     "text": [
      "Method of class B\n"
     ]
    }
   ],
   "source": [
    "d = D() \n",
    "d.method()"
   ]
  },
  {
   "cell_type": "code",
   "execution_count": 58,
   "id": "13985b02-05cf-4eaf-af0f-2ec4ef03de06",
   "metadata": {},
   "outputs": [],
   "source": [
    "#hierarchical inheritance >>one parent class>>multiple(more than two childclass)"
   ]
  },
  {
   "attachments": {
    "9db9c15e-233b-4e38-a736-663eae1ba44f.png": {
     "image/png": "[encoded data removed]"
    }
   },
   "cell_type": "markdown",
   "id": "ecb3b630-c735-47dd-ba6c-a5f83efcc3a9",
   "metadata": {},
   "source": [
    "![image.png](attachment:9db9c15e-233b-4e38-a736-663eae1ba44f.png)"
   ]
  },
  {
   "cell_type": "code",
   "execution_count": 59,
   "id": "3694b20c-8130-4c5d-b28c-0c3131df0c5f",
   "metadata": {},
   "outputs": [],
   "source": [
    "class Vehicle:\n",
    "    def info(self):\n",
    "        print(\"This is vehicle\")\n",
    "class Car(Vehicle):\n",
    "    def car_info(self, name):\n",
    "        print(\"This is car info\", name)\n",
    "class Truck(Vehicle):\n",
    "    def truck_info(self, name):\n",
    "        print(\"Truck info\", name)"
   ]
  },
  {
   "cell_type": "code",
   "execution_count": 60,
   "id": "e84afeea-cd36-44a3-81b3-6a6aac68df0a",
   "metadata": {},
   "outputs": [
    {
     "name": "stdout",
     "output_type": "stream",
     "text": [
      "This is vehicle\n"
     ]
    }
   ],
   "source": [
    "c1 = Car()\n",
    "c1.info()"
   ]
  },
  {
   "cell_type": "code",
   "execution_count": 61,
   "id": "8a12f7a4-8716-4556-83f6-5ab9f20bc7a7",
   "metadata": {},
   "outputs": [
    {
     "name": "stdout",
     "output_type": "stream",
     "text": [
      "This is car info BMW\n"
     ]
    }
   ],
   "source": [
    "c1.car_info(\"BMW\")"
   ]
  },
  {
   "cell_type": "code",
   "execution_count": 62,
   "id": "f3e4024a-7769-466f-891c-1375e83dd6bf",
   "metadata": {},
   "outputs": [
    {
     "name": "stdout",
     "output_type": "stream",
     "text": [
      "This is vehicle\n"
     ]
    }
   ],
   "source": [
    "obj2 = Truck()\n",
    "obj2.info()"
   ]
  },
  {
   "cell_type": "code",
   "execution_count": 63,
   "id": "061f6a82-c5f5-429b-a235-5d964e8fe9b7",
   "metadata": {},
   "outputs": [
    {
     "name": "stdout",
     "output_type": "stream",
     "text": [
      "Truck info Truck1\n"
     ]
    }
   ],
   "source": [
    "obj2.truck_info(\"Truck1\")"
   ]
  },
  {
   "cell_type": "code",
   "execution_count": 64,
   "id": "8a8eb487-a8ca-4d8a-8491-ddc37ce08cf9",
   "metadata": {},
   "outputs": [],
   "source": [
    "#hybrid inheritance>> multiple types or combination of different inheritance"
   ]
  },
  {
   "attachments": {
    "c131a794-f8df-45cd-acb0-5abb111c741c.png": {
     "image/png": "[encoded data removed]"
    }
   },
   "cell_type": "markdown",
   "id": "d5683426-9922-4ab4-ab36-464ec9ac73a7",
   "metadata": {},
   "source": [
    "![image.png](attachment:c131a794-f8df-45cd-acb0-5abb111c741c.png)"
   ]
  },
  {
   "cell_type": "code",
   "execution_count": 65,
   "id": "df47a06e-4214-4aa3-8166-b3e57f46f067",
   "metadata": {},
   "outputs": [],
   "source": [
    "class Vehicle:\n",
    "    def vehicle_info(self):\n",
    "        print(\"Inside the vehicle class\")\n",
    "        \n",
    "class Car(Vehicle):\n",
    "    def car_info(self):\n",
    "        print(\"Inside the car class\")\n",
    "        \n",
    "class Truck(Vehicle):\n",
    "    def truck_info(self, name):\n",
    "        print(\"Inside truck info\", name)\n",
    "        \n",
    "class SportsCar(Car, Vehicle):\n",
    "    def sports_info(self):\n",
    "        print(\"Inside sports car class\")\n",
    "        "
   ]
  },
  {
   "cell_type": "code",
   "execution_count": 66,
   "id": "78f56ae7-e087-4bda-ad6c-5db16ed29347",
   "metadata": {},
   "outputs": [
    {
     "name": "stdout",
     "output_type": "stream",
     "text": [
      "Inside the car class\n"
     ]
    }
   ],
   "source": [
    "obj1 = SportsCar()\n",
    "obj1.car_info()"
   ]
  },
  {
   "cell_type": "code",
   "execution_count": 67,
   "id": "7d816a25-ce34-489d-9ef6-2ebebe57e478",
   "metadata": {},
   "outputs": [
    {
     "name": "stdout",
     "output_type": "stream",
     "text": [
      "Inside the vehicle class\n"
     ]
    }
   ],
   "source": [
    "obj1.vehicle_info()"
   ]
  },
  {
   "cell_type": "code",
   "execution_count": 68,
   "id": "aa13a45e-c437-42c9-ad20-7458cfaf8625",
   "metadata": {},
   "outputs": [
    {
     "name": "stdout",
     "output_type": "stream",
     "text": [
      "Inside the car class\n"
     ]
    }
   ],
   "source": [
    "obj1.car_info()"
   ]
  },
  {
   "cell_type": "raw",
   "id": "3357afd8-e937-42d1-baee-d4ad347691c1",
   "metadata": {},
   "source": [
    "#Abstraction>>concept of hiding complex implementation\n",
    "#hiding unneeded details and exposing the required\n",
    "#abstract class can not be instantiated(can not make object) \n",
    "#abstract class should always be subclassed\n",
    "#abstract class  may contain methods that are just declared and not implemented in abstract class itself, subclass are responsible for implementing these abstract methods\n",
    "#if in inherited class a method is not present from abstract class it will not throw error"
   ]
  },
  {
   "cell_type": "code",
   "execution_count": 70,
   "id": "19fa8578-ccd1-4a90-9bbc-ce24b98a1904",
   "metadata": {},
   "outputs": [],
   "source": [
    "#example>> if you use an pwskills to attend class. do you see the backedn code or just an interface to attend the class\n",
    "#you just interface\n"
   ]
  },
  {
   "cell_type": "code",
   "execution_count": 71,
   "id": "8835309e-d4be-4042-9273-c7c1feb3952b",
   "metadata": {},
   "outputs": [],
   "source": [
    "#abstraction can be achieved using abstract class>> import abc"
   ]
  },
  {
   "cell_type": "code",
   "execution_count": 72,
   "id": "41bfbaf9-2d8b-4c6f-8ab2-6b006c2aa01b",
   "metadata": {},
   "outputs": [],
   "source": [
    "import abc #collection of multiple functions is a module"
   ]
  },
  {
   "cell_type": "code",
   "execution_count": 73,
   "id": "783faf10-0076-4d47-85f5-6a352ddd96c2",
   "metadata": {},
   "outputs": [],
   "source": [
    "#use case\n",
    "#in any class at pwskills>>data science/ frontend/backend, the following three methods will be common\n",
    "class PwSkills:\n",
    "    \n",
    "    @abc.abstractmethod\n",
    "    def student_details(self):\n",
    "        pass\n",
    "    \n",
    "    @abc.abstractmethod\n",
    "    def student_assignment(self):\n",
    "        pass\n",
    "    \n",
    "    @abc.abstractmethod\n",
    "    def student_marks(self):\n",
    "        pass"
   ]
  },
  {
   "cell_type": "code",
   "execution_count": 74,
   "id": "081eb712-3aa1-4c2d-b0cc-6170ab8b123f",
   "metadata": {},
   "outputs": [],
   "source": [
    "class DataScience(PwSkills):\n",
    "    def student_details(self):\n",
    "        return \"Data Science course details\"\n",
    "    def student_marks(self):\n",
    "        return \"give ds students marks\""
   ]
  },
  {
   "cell_type": "code",
   "execution_count": 75,
   "id": "4e11e8b0-9764-4b96-a050-3abbf32419b8",
   "metadata": {},
   "outputs": [],
   "source": [
    "class WebDev(PwSkills):\n",
    "    def student_assignment(self):\n",
    "        return \"This will give web dev student assignment\"\n",
    "    def student_marks(self):\n",
    "        return \"webdev student marks\""
   ]
  },
  {
   "cell_type": "code",
   "execution_count": 76,
   "id": "102ecd16-7a4c-4229-9b82-ed00d1267c48",
   "metadata": {},
   "outputs": [],
   "source": [
    "ds =  DataScience()"
   ]
  },
  {
   "cell_type": "code",
   "execution_count": 77,
   "id": "46e51bcf-441a-4c54-810f-60d5087599ec",
   "metadata": {},
   "outputs": [],
   "source": [
    "ds.student_assignment() #it will not throw any error even if any method is not define"
   ]
  },
  {
   "cell_type": "code",
   "execution_count": 78,
   "id": "10fa77c9-d927-4c3f-9716-61e9ca49a87c",
   "metadata": {},
   "outputs": [
    {
     "data": {
      "text/plain": [
       "'Data Science course details'"
      ]
     },
     "execution_count": 78,
     "metadata": {},
     "output_type": "execute_result"
    }
   ],
   "source": [
    "ds.student_details()"
   ]
  },
  {
   "cell_type": "code",
   "execution_count": 79,
   "id": "470c44e8-3a91-4f2c-91ab-fb7d4c0a0e68",
   "metadata": {},
   "outputs": [
    {
     "data": {
      "text/plain": [
       "'This will give web dev student assignment'"
      ]
     },
     "execution_count": 79,
     "metadata": {},
     "output_type": "execute_result"
    }
   ],
   "source": [
    "w = WebDev()\n",
    "w.student_assignment()"
   ]
  },
  {
   "cell_type": "code",
   "execution_count": 80,
   "id": "43600df8-754c-4d7e-875e-c0bd223abbcc",
   "metadata": {},
   "outputs": [
    {
     "data": {
      "text/plain": [
       "'webdev student marks'"
      ]
     },
     "execution_count": 80,
     "metadata": {},
     "output_type": "execute_result"
    }
   ],
   "source": [
    "w.student_marks()"
   ]
  },
  {
   "cell_type": "code",
   "execution_count": 81,
   "id": "7a493162-d21b-4536-af06-0b269766100b",
   "metadata": {},
   "outputs": [],
   "source": [
    "#use case\n",
    "class Shape:\n",
    "    \n",
    "    @abc.abstractmethod\n",
    "    def calculate_area(self):\n",
    "        pass\n",
    "class Rectangle(Shape):\n",
    "    def calculate_area(self):\n",
    "        return \"Area of rectange is len*breadth\"\n",
    "class Circle(Shape):\n",
    "    def calculate_area(self):\n",
    "        return \"area of circle is pi r **2\""
   ]
  },
  {
   "cell_type": "code",
   "execution_count": 82,
   "id": "bc48fe64-0ed2-4f0c-801d-76cd25ad7e8c",
   "metadata": {},
   "outputs": [
    {
     "data": {
      "text/plain": [
       "'Area of rectange is len*breadth'"
      ]
     },
     "execution_count": 82,
     "metadata": {},
     "output_type": "execute_result"
    }
   ],
   "source": [
    "rect = Rectangle()\n",
    "rect.calculate_area()"
   ]
  },
  {
   "cell_type": "code",
   "execution_count": 83,
   "id": "eb5da4ca-3209-4025-8832-2730bac456ed",
   "metadata": {},
   "outputs": [
    {
     "data": {
      "text/plain": [
       "'area of circle is pi r **2'"
      ]
     },
     "execution_count": 83,
     "metadata": {},
     "output_type": "execute_result"
    }
   ],
   "source": [
    "c = Circle()\n",
    "c.calculate_area()"
   ]
  },
  {
   "cell_type": "code",
   "execution_count": null,
   "id": "37f0d551-a833-4a23-aa06-ad9c9e4ee027",
   "metadata": {},
   "outputs": [],
   "source": []
  }
 ],
 "metadata": {
  "kernelspec": {
   "display_name": "Python 3 (ipykernel)",
   "language": "python",
   "name": "python3"
  },
  "language_info": {
   "codemirror_mode": {
    "name": "ipython",
    "version": 3
   },
   "file_extension": ".py",
   "mimetype": "text/x-python",
   "name": "python",
   "nbconvert_exporter": "python",
   "pygments_lexer": "ipython3",
   "version": "3.10.8"
  }
 },
 "nbformat": 4,
 "nbformat_minor": 5
}
