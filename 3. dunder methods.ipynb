{
 "cells": [
  {
   "cell_type": "code",
   "execution_count": 1,
   "id": "19f62fac-8a78-470a-8be1-401d0746e5b0",
   "metadata": {},
   "outputs": [],
   "source": [
    "#dunder/magic/special method\n"
   ]
  },
  {
   "cell_type": "code",
   "execution_count": null,
   "id": "7749c995-57b1-49bd-b245-74079fe10f3e",
   "metadata": {},
   "outputs": [],
   "source": [
    "print(\"hello world!\") #print is a keyword/inbuiltfunction"
   ]
  },
  {
   "cell_type": "code",
   "execution_count": null,
   "id": "5bc19bd8-ad2e-4a50-9637-74189dac0363",
   "metadata": {},
   "outputs": [],
   "source": [
    "#Dunder/magic/special methods are the methods defined by built-in classess in Python\n",
    "#classes define these type of methods for creating custom objects >> for init it means data for every object\n",
    "#implementing operator overloading in Python"
   ]
  },
  {
   "cell_type": "code",
   "execution_count": 2,
   "id": "292eb3ca-0fdb-430c-87c1-323fd3ffee08",
   "metadata": {},
   "outputs": [],
   "source": [
    "#d+under\n",
    "#double underscore >> all the methods surrounding double underscore is a dunder method"
   ]
  },
  {
   "cell_type": "code",
   "execution_count": 3,
   "id": "d2c53a79-3fa9-4428-8014-b78c8d50a0d0",
   "metadata": {},
   "outputs": [
    {
     "data": {
      "text/plain": [
       "'pwskills'"
      ]
     },
     "execution_count": 3,
     "metadata": {},
     "output_type": "execute_result"
    }
   ],
   "source": [
    "a = \"pw\"\n",
    "b = \"skills\"\n",
    "a+b"
   ]
  },
  {
   "cell_type": "code",
   "execution_count": 4,
   "id": "ab0733c0-4666-421f-84a1-8e36a074f466",
   "metadata": {},
   "outputs": [
    {
     "data": {
      "text/plain": [
       "'pwskills'"
      ]
     },
     "execution_count": 4,
     "metadata": {},
     "output_type": "execute_result"
    }
   ],
   "source": [
    "a.__add__(b) #a dunder method/special/magic method associated with strings"
   ]
  },
  {
   "cell_type": "code",
   "execution_count": 5,
   "id": "ab9d6de5-dc62-49df-9424-a2f9297a3cf5",
   "metadata": {},
   "outputs": [
    {
     "data": {
      "text/plain": [
       "['__add__',\n",
       " '__class__',\n",
       " '__contains__',\n",
       " '__delattr__',\n",
       " '__dir__',\n",
       " '__doc__',\n",
       " '__eq__',\n",
       " '__format__',\n",
       " '__ge__',\n",
       " '__getattribute__',\n",
       " '__getitem__',\n",
       " '__getnewargs__',\n",
       " '__gt__',\n",
       " '__hash__',\n",
       " '__init__',\n",
       " '__init_subclass__',\n",
       " '__iter__',\n",
       " '__le__',\n",
       " '__len__',\n",
       " '__lt__',\n",
       " '__mod__',\n",
       " '__mul__',\n",
       " '__ne__',\n",
       " '__new__',\n",
       " '__reduce__',\n",
       " '__reduce_ex__',\n",
       " '__repr__',\n",
       " '__rmod__',\n",
       " '__rmul__',\n",
       " '__setattr__',\n",
       " '__sizeof__',\n",
       " '__str__',\n",
       " '__subclasshook__',\n",
       " 'capitalize',\n",
       " 'casefold',\n",
       " 'center',\n",
       " 'count',\n",
       " 'encode',\n",
       " 'endswith',\n",
       " 'expandtabs',\n",
       " 'find',\n",
       " 'format',\n",
       " 'format_map',\n",
       " 'index',\n",
       " 'isalnum',\n",
       " 'isalpha',\n",
       " 'isascii',\n",
       " 'isdecimal',\n",
       " 'isdigit',\n",
       " 'isidentifier',\n",
       " 'islower',\n",
       " 'isnumeric',\n",
       " 'isprintable',\n",
       " 'isspace',\n",
       " 'istitle',\n",
       " 'isupper',\n",
       " 'join',\n",
       " 'ljust',\n",
       " 'lower',\n",
       " 'lstrip',\n",
       " 'maketrans',\n",
       " 'partition',\n",
       " 'removeprefix',\n",
       " 'removesuffix',\n",
       " 'replace',\n",
       " 'rfind',\n",
       " 'rindex',\n",
       " 'rjust',\n",
       " 'rpartition',\n",
       " 'rsplit',\n",
       " 'rstrip',\n",
       " 'split',\n",
       " 'splitlines',\n",
       " 'startswith',\n",
       " 'strip',\n",
       " 'swapcase',\n",
       " 'title',\n",
       " 'translate',\n",
       " 'upper',\n",
       " 'zfill']"
      ]
     },
     "execution_count": 5,
     "metadata": {},
     "output_type": "execute_result"
    }
   ],
   "source": [
    "#all dunder methods associated with strings\n",
    "dir(str)"
   ]
  },
  {
   "cell_type": "code",
   "execution_count": 6,
   "id": "51da7a00-9e2e-4e2f-91ca-4dacb872ab57",
   "metadata": {},
   "outputs": [
    {
     "data": {
      "text/plain": [
       "8"
      ]
     },
     "execution_count": 6,
     "metadata": {},
     "output_type": "execute_result"
    }
   ],
   "source": [
    "3+5"
   ]
  },
  {
   "cell_type": "code",
   "execution_count": 7,
   "id": "34d060f7-a739-4fc1-88a0-a039d91e1ebb",
   "metadata": {},
   "outputs": [
    {
     "data": {
      "text/plain": [
       "8"
      ]
     },
     "execution_count": 7,
     "metadata": {},
     "output_type": "execute_result"
    }
   ],
   "source": [
    "a = 3\n",
    "b = 5\n",
    "a.__add__(b)"
   ]
  },
  {
   "cell_type": "code",
   "execution_count": 8,
   "id": "1391c443-cbe7-433d-ab85-cc4366fc2de6",
   "metadata": {},
   "outputs": [
    {
     "data": {
      "text/plain": [
       "['__abs__',\n",
       " '__add__',\n",
       " '__and__',\n",
       " '__bool__',\n",
       " '__ceil__',\n",
       " '__class__',\n",
       " '__delattr__',\n",
       " '__dir__',\n",
       " '__divmod__',\n",
       " '__doc__',\n",
       " '__eq__',\n",
       " '__float__',\n",
       " '__floor__',\n",
       " '__floordiv__',\n",
       " '__format__',\n",
       " '__ge__',\n",
       " '__getattribute__',\n",
       " '__getnewargs__',\n",
       " '__gt__',\n",
       " '__hash__',\n",
       " '__index__',\n",
       " '__init__',\n",
       " '__init_subclass__',\n",
       " '__int__',\n",
       " '__invert__',\n",
       " '__le__',\n",
       " '__lshift__',\n",
       " '__lt__',\n",
       " '__mod__',\n",
       " '__mul__',\n",
       " '__ne__',\n",
       " '__neg__',\n",
       " '__new__',\n",
       " '__or__',\n",
       " '__pos__',\n",
       " '__pow__',\n",
       " '__radd__',\n",
       " '__rand__',\n",
       " '__rdivmod__',\n",
       " '__reduce__',\n",
       " '__reduce_ex__',\n",
       " '__repr__',\n",
       " '__rfloordiv__',\n",
       " '__rlshift__',\n",
       " '__rmod__',\n",
       " '__rmul__',\n",
       " '__ror__',\n",
       " '__round__',\n",
       " '__rpow__',\n",
       " '__rrshift__',\n",
       " '__rshift__',\n",
       " '__rsub__',\n",
       " '__rtruediv__',\n",
       " '__rxor__',\n",
       " '__setattr__',\n",
       " '__sizeof__',\n",
       " '__str__',\n",
       " '__sub__',\n",
       " '__subclasshook__',\n",
       " '__truediv__',\n",
       " '__trunc__',\n",
       " '__xor__',\n",
       " 'as_integer_ratio',\n",
       " 'bit_count',\n",
       " 'bit_length',\n",
       " 'conjugate',\n",
       " 'denominator',\n",
       " 'from_bytes',\n",
       " 'imag',\n",
       " 'numerator',\n",
       " 'real',\n",
       " 'to_bytes']"
      ]
     },
     "execution_count": 8,
     "metadata": {},
     "output_type": "execute_result"
    }
   ],
   "source": [
    "dir(int)"
   ]
  },
  {
   "cell_type": "code",
   "execution_count": 11,
   "id": "3cd337e0-56ac-4c7e-9900-fe580217da67",
   "metadata": {},
   "outputs": [],
   "source": [
    "#useful dunder methods\n",
    "#__init__ >>to take data with respect to object\n",
    "class Student:\\\n",
    "#to initialize the newly created instance/object>>it sets up any intial state/properties of the object\n",
    "#also known as constructor\n",
    "    def __init__(self, name):\n",
    "        print(name, \"This is the first thing that will be executed when you make instance/object of the class\")"
   ]
  },
  {
   "cell_type": "code",
   "execution_count": 12,
   "id": "f2ad6dd7-a9f1-4ade-b457-d5f340f72dd8",
   "metadata": {},
   "outputs": [
    {
     "name": "stdout",
     "output_type": "stream",
     "text": [
      "Ajay This is the first thing that will be executed when you make instance/object of the class\n"
     ]
    }
   ],
   "source": [
    "obj1 = Student(\"Ajay\")"
   ]
  },
  {
   "cell_type": "code",
   "execution_count": 13,
   "id": "e3321a93-a4ba-4722-bf6e-9ef883b0d75f",
   "metadata": {},
   "outputs": [
    {
     "name": "stdout",
     "output_type": "stream",
     "text": [
      "Bijay This is the first thing that will be executed when you make instance/object of the class\n"
     ]
    }
   ],
   "source": [
    "obj2 = Student(\"Bijay\")"
   ]
  },
  {
   "cell_type": "code",
   "execution_count": 14,
   "id": "1cf5abe9-54a9-4aed-8f5c-5c8ba63fb641",
   "metadata": {},
   "outputs": [],
   "source": [
    "#another magic method >> __new__\n",
    "class Student:\n",
    "    #__new__ is responsible for creating a new instance of the class\n",
    "    def __new__(cls): #since cls>>so it will be referring to the class directly\n",
    "        print(\"This will be executed even before init.\")\n",
    "    #to initialize teh newly created instance/object>>it sets up any intial state/properties of the object\n",
    "    def __init__(self, name):\n",
    "        print(name, \"This is the first thing that will be executed when you make instance/object of the class\")"
   ]
  },
  {
   "cell_type": "code",
   "execution_count": 15,
   "id": "f7ffde48-066a-442c-9cd5-a6807c5ace3c",
   "metadata": {},
   "outputs": [
    {
     "name": "stdout",
     "output_type": "stream",
     "text": [
      "This will be executed even before init.\n"
     ]
    }
   ],
   "source": [
    "obj = Student()"
   ]
  },
  {
   "cell_type": "code",
   "execution_count": 16,
   "id": "549dbdf3-0b1b-454a-bbac-ff43e207799e",
   "metadata": {},
   "outputs": [],
   "source": [
    "#another dunder method>> __str__ >> which returns string representation of method\n",
    "class Student:\n",
    "    def __init__(self):\n",
    "        self.phone = 999999999"
   ]
  },
  {
   "cell_type": "code",
   "execution_count": 21,
   "id": "9bdb38e6-2787-44d9-ad25-06a2e2d6c150",
   "metadata": {},
   "outputs": [
    {
     "data": {
      "text/plain": [
       "<__main__.Student at 0x7fcc34701ff0>"
      ]
     },
     "execution_count": 21,
     "metadata": {},
     "output_type": "execute_result"
    }
   ],
   "source": [
    "Student()"
   ]
  },
  {
   "cell_type": "code",
   "execution_count": 20,
   "id": "838ab419-bfa0-4c38-9592-2fa26214aa85",
   "metadata": {},
   "outputs": [
    {
     "name": "stdout",
     "output_type": "stream",
     "text": [
      "<__main__.Student object at 0x7fcc34719ea0>\n"
     ]
    }
   ],
   "source": [
    "print(Student()) #hexadecimal representation  of memory of Student object"
   ]
  },
  {
   "cell_type": "code",
   "execution_count": 22,
   "id": "1f86bff2-2b71-4772-904d-a19e0afba432",
   "metadata": {},
   "outputs": [],
   "source": [
    "class Student:\n",
    "    def __init__(self):\n",
    "        self.phone = 999999999\n",
    "    def __str__(self): #__str__  will return a string representation of object\n",
    "        return \"This method overloads the print statement of object\""
   ]
  },
  {
   "cell_type": "code",
   "execution_count": 23,
   "id": "405a5023-4c7e-4ec1-a676-18f31ecfbb4e",
   "metadata": {},
   "outputs": [
    {
     "data": {
      "text/plain": [
       "<__main__.Student at 0x7fcc3c0e9810>"
      ]
     },
     "execution_count": 23,
     "metadata": {},
     "output_type": "execute_result"
    }
   ],
   "source": [
    "Student()"
   ]
  },
  {
   "cell_type": "code",
   "execution_count": 24,
   "id": "00043dae-8471-4fd0-a40a-d089c84f02ad",
   "metadata": {},
   "outputs": [
    {
     "name": "stdout",
     "output_type": "stream",
     "text": [
      "This method overloads the print statement of object method\n"
     ]
    }
   ],
   "source": [
    "print(Student())"
   ]
  },
  {
   "cell_type": "code",
   "execution_count": 25,
   "id": "da9d4256-b988-464d-8290-dc375c0f3a71",
   "metadata": {},
   "outputs": [],
   "source": [
    "#another dunder method __repr__ >> meaning representation of class\n",
    "#it returns unambiguous string representation of teh object as it is that can be used recreate the object"
   ]
  },
  {
   "cell_type": "code",
   "execution_count": 26,
   "id": "e529e95e-31ff-441f-92d9-3f6c5e875357",
   "metadata": {},
   "outputs": [],
   "source": [
    "class MyClass:\n",
    "    def __init__(self, x):\n",
    "        self.x = x\n",
    "    def __repr__(self):\n",
    "        return f\"MyClass({self.x})\""
   ]
  },
  {
   "cell_type": "code",
   "execution_count": 30,
   "id": "699f54c3-4d7f-4913-ab8b-93e9d218bbd1",
   "metadata": {},
   "outputs": [],
   "source": [
    "obj = MyClass(5)"
   ]
  },
  {
   "cell_type": "code",
   "execution_count": 31,
   "id": "fb7464bb-2a77-4fa1-8d83-88665c1f68ac",
   "metadata": {},
   "outputs": [
    {
     "data": {
      "text/plain": [
       "MyClass(5)"
      ]
     },
     "execution_count": 31,
     "metadata": {},
     "output_type": "execute_result"
    }
   ],
   "source": [
    "obj"
   ]
  },
  {
   "cell_type": "code",
   "execution_count": 32,
   "id": "0fdd3aac-f5ec-4e41-84df-f6bcdddb01a0",
   "metadata": {},
   "outputs": [
    {
     "name": "stdout",
     "output_type": "stream",
     "text": [
      "MyClass(5)\n"
     ]
    }
   ],
   "source": [
    "print(repr(obj))"
   ]
  },
  {
   "cell_type": "code",
   "execution_count": 33,
   "id": "5ef86802-8ffa-4391-9440-c17102667308",
   "metadata": {},
   "outputs": [
    {
     "data": {
      "text/plain": [
       "True"
      ]
     },
     "execution_count": 33,
     "metadata": {},
     "output_type": "execute_result"
    }
   ],
   "source": [
    "#__eq__\n",
    "True == True"
   ]
  },
  {
   "cell_type": "code",
   "execution_count": 34,
   "id": "0c37a5c6-f077-4d84-bf83-542629d43678",
   "metadata": {},
   "outputs": [
    {
     "data": {
      "text/plain": [
       "True"
      ]
     },
     "execution_count": 34,
     "metadata": {},
     "output_type": "execute_result"
    }
   ],
   "source": [
    "3 == 3"
   ]
  },
  {
   "cell_type": "code",
   "execution_count": 35,
   "id": "267d8893-1887-4b2c-a8a5-a2c6958f5bb6",
   "metadata": {},
   "outputs": [
    {
     "data": {
      "text/plain": [
       "True"
      ]
     },
     "execution_count": 35,
     "metadata": {},
     "output_type": "execute_result"
    }
   ],
   "source": [
    "a = 3\n",
    "b = 3\n",
    "a.__eq__(b)"
   ]
  },
  {
   "cell_type": "code",
   "execution_count": 36,
   "id": "c4aaecf4-d904-40d7-b03e-1f9b3d00517a",
   "metadata": {},
   "outputs": [],
   "source": [
    "#use case of this\n",
    "class Point:\n",
    "    def __init__(self, x, y):\n",
    "        self.x = x\n",
    "        self.y = y\n",
    "    def __eq__(self, other):\n",
    "        return self.x == other.x and self.y == other.y"
   ]
  },
  {
   "cell_type": "code",
   "execution_count": 37,
   "id": "1835b969-af86-48c7-baf1-b85598e94841",
   "metadata": {},
   "outputs": [
    {
     "name": "stdout",
     "output_type": "stream",
     "text": [
      "True\n"
     ]
    }
   ],
   "source": [
    "p1 = Point(1, 2)\n",
    "p2 = Point(1, 2)\n",
    "print(p1 == p2) #comparing both of the object\n",
    "##when you are using == operator with point Objects, python internally calls __add__"
   ]
  },
  {
   "cell_type": "code",
   "execution_count": 38,
   "id": "c4befdde-9383-4230-99a5-f2cf14b3de60",
   "metadata": {},
   "outputs": [
    {
     "name": "stdout",
     "output_type": "stream",
     "text": [
      "False\n"
     ]
    }
   ],
   "source": [
    "p1 = Point(3, 2)\n",
    "p2 = Point(1, 2)\n",
    "print(p1 == p2)"
   ]
  },
  {
   "cell_type": "code",
   "execution_count": 39,
   "id": "749cbc40-647b-47bc-b0ba-769c134d04b1",
   "metadata": {},
   "outputs": [
    {
     "data": {
      "text/plain": [
       "8"
      ]
     },
     "execution_count": 39,
     "metadata": {},
     "output_type": "execute_result"
    }
   ],
   "source": [
    "#__add__\n",
    "a = 3\n",
    "b = 5\n",
    "a+b"
   ]
  },
  {
   "cell_type": "code",
   "execution_count": 41,
   "id": "f8506c81-b1fd-4b1e-bbfc-4815601500b5",
   "metadata": {},
   "outputs": [],
   "source": [
    "class Point:\n",
    "    def __init__(self, x, y):\n",
    "        self.x = x\n",
    "        self.y = y\n",
    "    def __add__(self, other):\n",
    "        return Point(self.x + other.x,  self.y + other.y)"
   ]
  },
  {
   "cell_type": "code",
   "execution_count": 42,
   "id": "862afedb-b675-4dc8-84e3-31bace47b3f8",
   "metadata": {},
   "outputs": [
    {
     "name": "stdout",
     "output_type": "stream",
     "text": [
      "2 4\n"
     ]
    }
   ],
   "source": [
    "p1 = Point(1, 2)\n",
    "p2 = Point(1, 2)\n",
    "p3 = p1+p2 #when you are using + operator with point Objects, python internally calls __add__\n",
    "print(p3.x, p3.y)"
   ]
  },
  {
   "cell_type": "code",
   "execution_count": 43,
   "id": "f8d7450b-c96d-47dc-9ec7-3abbd22ee52c",
   "metadata": {},
   "outputs": [
    {
     "name": "stdout",
     "output_type": "stream",
     "text": [
      "6 10\n"
     ]
    }
   ],
   "source": [
    "p1 = Point(5, 2)\n",
    "p2 = Point(1, 8)\n",
    "p3 = p1+p2\n",
    "print(p3.x, p3.y)"
   ]
  },
  {
   "cell_type": "code",
   "execution_count": null,
   "id": "ac15fe3c-b2c7-426c-a3ca-022056304a95",
   "metadata": {},
   "outputs": [],
   "source": []
  }
 ],
 "metadata": {
  "kernelspec": {
   "display_name": "Python 3 (ipykernel)",
   "language": "python",
   "name": "python3"
  },
  "language_info": {
   "codemirror_mode": {
    "name": "ipython",
    "version": 3
   },
   "file_extension": ".py",
   "mimetype": "text/x-python",
   "name": "python",
   "nbconvert_exporter": "python",
   "pygments_lexer": "ipython3",
   "version": "3.10.8"
  }
 },
 "nbformat": 4,
 "nbformat_minor": 5
}
