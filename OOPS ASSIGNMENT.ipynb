{
 "cells": [
  {
   "cell_type": "markdown",
   "id": "279daf11-515f-46ef-944b-f1cc0ac539ae",
   "metadata": {},
   "source": [
    "# **OOPS**"
   ]
  },
  {
   "cell_type": "markdown",
   "id": "5bc51398-e557-43a3-8d87-32eac17ad8a0",
   "metadata": {},
   "source": [
    "# **Assignment Questions**"
   ]
  },
  {
   "cell_type": "markdown",
   "id": "34040493-af39-4de2-b889-4baf6ed1db8a",
   "metadata": {},
   "source": [
    "# Q1. Five Key Concepts of Object-Oriented Programming (OOP)\n",
    "* **The five key concepts of OOP are:**\n",
    "\n",
    "* Encapsulation: Restricting direct access to object data and allowing modification through methods.\n",
    "* Abstraction: Hiding complex implementation details and exposing only the necessary functionality.\n",
    "* Inheritance: Allowing one class to inherit attributes and methods from another.\n",
    "* Polymorphism: Enabling a single interface to be used for different data types.\n",
    "* Message Passing: Objects communicate with each other using methods and messages"
   ]
  },
  {
   "cell_type": "code",
   "execution_count": 6,
   "id": "5bfcff42-1f19-40ac-a592-cd62a636fea5",
   "metadata": {},
   "outputs": [
    {
     "name": "stdout",
     "output_type": "stream",
     "text": [
      "Car: 2022 Toyota Corolla\n"
     ]
    }
   ],
   "source": [
    "#2. Python Class for Car\n",
    "\n",
    "class Car:\n",
    "    def __init__(self, make, model, year):\n",
    "        self.make = make\n",
    "        self.model = model\n",
    "        self.year = year\n",
    "\n",
    "    def display_info(self):\n",
    "        print(f\"Car: {self.year} {self.make} {self.model}\")\n",
    "\n",
    "# Example Usage\n",
    "car1 = Car(\"Toyota\", \"Corolla\", 2022)\n",
    "car1.display_info()"
   ]
  },
  {
   "cell_type": "code",
   "execution_count": 8,
   "id": "9d1b657b-d082-44b8-97ee-713428cd854a",
   "metadata": {},
   "outputs": [
    {
     "name": "stdout",
     "output_type": "stream",
     "text": [
      "Instance Method: I am an instance variable\n",
      "Class Method: I am a class variable\n"
     ]
    }
   ],
   "source": [
    "# 3. Instance Methods vs. Class Methods\n",
    "\n",
    "class Example:\n",
    "    class_var = \"I am a class variable\"\n",
    "\n",
    "    def __init__(self, value):\n",
    "        self.instance_var = value  # Instance variable\n",
    "\n",
    "    def instance_method(self):  # Instance Method\n",
    "        return f\"Instance Method: {self.instance_var}\"\n",
    "\n",
    "    @classmethod\n",
    "    def class_method(cls):  # Class Method\n",
    "        return f\"Class Method: {cls.class_var}\"\n",
    "\n",
    "# Example Usage\n",
    "obj = Example(\"I am an instance variable\")\n",
    "print(obj.instance_method())  # Calls instance method\n",
    "print(Example.class_method())  # Calls class method\n",
    "\n"
   ]
  },
  {
   "cell_type": "code",
   "execution_count": 10,
   "id": "49936e14-a043-4f99-a27e-babbd14877d8",
   "metadata": {},
   "outputs": [
    {
     "name": "stdout",
     "output_type": "stream",
     "text": [
      "5\n",
      "9\n"
     ]
    }
   ],
   "source": [
    "# 4. Method Overloading in Python\n",
    "class MathOperations:\n",
    "    def add(self, a, b, c=None):\n",
    "        if c is not None:\n",
    "            return a + b + c\n",
    "        return a + b\n",
    "\n",
    "# Example Usage\n",
    "obj = MathOperations()\n",
    "print(obj.add(2, 3))     # Output: 5\n",
    "print(obj.add(2, 3, 4))  # Output: 9\n",
    "\n"
   ]
  },
  {
   "cell_type": "code",
   "execution_count": 12,
   "id": "50f54bf5-13bd-49ab-aeda-5127b2e22b91",
   "metadata": {},
   "outputs": [
    {
     "name": "stdout",
     "output_type": "stream",
     "text": [
      "I am public\n",
      "I am protected\n"
     ]
    }
   ],
   "source": [
    "# 5. Access Modifiers in Python\n",
    "\n",
    "class Example:\n",
    "    def __init__(self):\n",
    "        self.public_var = \"I am public\"\n",
    "        self._protected_var = \"I am protected\"\n",
    "        self.__private_var = \"I am private\"\n",
    "\n",
    "obj = Example()\n",
    "print(obj.public_var)  # Accessible\n",
    "print(obj._protected_var)  # Accessible but discouraged\n",
    "# print(obj.__private_var)  # AttributeError: Private variable\n"
   ]
  },
  {
   "cell_type": "code",
   "execution_count": 14,
   "id": "ea786adb-ec38-4551-a539-b307f1c6b13c",
   "metadata": {},
   "outputs": [
    {
     "name": "stdout",
     "output_type": "stream",
     "text": [
      "Function from Parent1\n",
      "Function from Parent2\n",
      "Function from Child\n"
     ]
    }
   ],
   "source": [
    "# 6. Types of Inheritance in Python\n",
    "\n",
    "class Parent1:\n",
    "    def func1(self):\n",
    "        print(\"Function from Parent1\")\n",
    "\n",
    "class Parent2:\n",
    "    def func2(self):\n",
    "        print(\"Function from Parent2\")\n",
    "\n",
    "class Child(Parent1, Parent2):\n",
    "    def func3(self):\n",
    "        print(\"Function from Child\")\n",
    "\n",
    "# Example Usage\n",
    "obj = Child()\n",
    "obj.func1()\n",
    "obj.func2()\n",
    "obj.func3()\n"
   ]
  },
  {
   "cell_type": "code",
   "execution_count": 16,
   "id": "ea0815b0-fd0d-4042-a10a-2fe9b326000f",
   "metadata": {},
   "outputs": [
    {
     "name": "stdout",
     "output_type": "stream",
     "text": [
      "[<class '__main__.D'>, <class '__main__.B'>, <class '__main__.C'>, <class '__main__.A'>, <class 'object'>]\n"
     ]
    }
   ],
   "source": [
    "# 7. Method Resolution Order (MRO)\n",
    "\n",
    "class A:\n",
    "    pass\n",
    "\n",
    "class B(A):\n",
    "    pass\n",
    "\n",
    "class C(A):\n",
    "    pass\n",
    "\n",
    "class D(B, C):\n",
    "    pass\n",
    "\n",
    "# Retrieve MRO\n",
    "print(D.mro())  # OR print(D.__mro__)\n"
   ]
  },
  {
   "cell_type": "code",
   "execution_count": 18,
   "id": "e78e7979-8ac1-414e-9a21-98ed6a785052",
   "metadata": {},
   "outputs": [
    {
     "name": "stdout",
     "output_type": "stream",
     "text": [
      "78.5\n",
      "24\n"
     ]
    }
   ],
   "source": [
    "# 8. Abstract Base Class (Shape)\n",
    "\n",
    "from abc import ABC, abstractmethod\n",
    "\n",
    "class Shape(ABC):\n",
    "    @abstractmethod\n",
    "    def area(self):\n",
    "        pass\n",
    "\n",
    "class Circle(Shape):\n",
    "    def __init__(self, radius):\n",
    "        self.radius = radius\n",
    "\n",
    "    def area(self):\n",
    "        return 3.14 * self.radius ** 2\n",
    "\n",
    "class Rectangle(Shape):\n",
    "    def __init__(self, length, width):\n",
    "        self.length = length\n",
    "        self.width = width\n",
    "\n",
    "    def area(self):\n",
    "        return self.length * self.width\n",
    "\n",
    "# Example Usage\n",
    "circle = Circle(5)\n",
    "rectangle = Rectangle(4, 6)\n",
    "print(circle.area())  # Output: 78.5\n",
    "print(rectangle.area())  # Output: 24\n",
    "\n"
   ]
  },
  {
   "cell_type": "code",
   "execution_count": 20,
   "id": "e9c4f358-363e-42da-b551-65a9d11da30e",
   "metadata": {},
   "outputs": [
    {
     "name": "stdout",
     "output_type": "stream",
     "text": [
      "Area: 78.5\n",
      "Area: 24\n"
     ]
    }
   ],
   "source": [
    "# 9. Demonstrating Polymorphism\n",
    "\n",
    "def print_area(shape):\n",
    "    print(f\"Area: {shape.area()}\")\n",
    "\n",
    "circle = Circle(5)\n",
    "rectangle = Rectangle(4, 6)\n",
    "\n",
    "print_area(circle)\n",
    "print_area(rectangle)\n",
    "\n"
   ]
  },
  {
   "cell_type": "code",
   "execution_count": 22,
   "id": "69758509-9162-4b98-9349-d4547f73ca8c",
   "metadata": {},
   "outputs": [
    {
     "name": "stdout",
     "output_type": "stream",
     "text": [
      "Deposited: 1000. New Balance: 6000\n",
      "Withdrawn: 2000. Remaining Balance: 4000\n",
      "Balance: 4000\n"
     ]
    }
   ],
   "source": [
    "# 10. Encapsulation in BankAccount\n",
    "\n",
    "class BankAccount:\n",
    "    def __init__(self, account_number, balance=0):\n",
    "        self.__account_number = account_number  # Private Attribute\n",
    "        self.__balance = balance  # Private Attribute\n",
    "\n",
    "    def deposit(self, amount):\n",
    "        if amount > 0:\n",
    "            self.__balance += amount\n",
    "            print(f\"Deposited: {amount}. New Balance: {self.__balance}\")\n",
    "        else:\n",
    "            print(\"Deposit amount must be positive.\")\n",
    "\n",
    "    def withdraw(self, amount):\n",
    "        if 0 < amount <= self.__balance:\n",
    "            self.__balance -= amount\n",
    "            print(f\"Withdrawn: {amount}. Remaining Balance: {self.__balance}\")\n",
    "        else:\n",
    "            print(\"Insufficient funds or invalid amount.\")\n",
    "\n",
    "    def get_balance(self):\n",
    "        return self.__balance\n",
    "\n",
    "# Example Usage\n",
    "account = BankAccount(\"123456789\", 5000)\n",
    "account.deposit(1000)\n",
    "account.withdraw(2000)\n",
    "print(\"Balance:\", account.get_balance())\n"
   ]
  },
  {
   "cell_type": "code",
   "execution_count": 24,
   "id": "4c10ba72-50fa-4561-8511-d2cf520a602b",
   "metadata": {},
   "outputs": [
    {
     "name": "stdout",
     "output_type": "stream",
     "text": [
      "Number(15)\n"
     ]
    }
   ],
   "source": [
    "# 11. Overriding __str__ and __add__ Magic Methods\n",
    "\n",
    "class Number:\n",
    "    def __init__(self, value):\n",
    "        self.value = value\n",
    "\n",
    "    def __str__(self):\n",
    "        return f\"Number({self.value})\"\n",
    "\n",
    "    def __add__(self, other):\n",
    "        if isinstance(other, Number):\n",
    "            return Number(self.value + other.value)\n",
    "        return NotImplemented\n",
    "\n",
    "# Example Usage\n",
    "num1 = Number(5)\n",
    "num2 = Number(10)\n",
    "num3 = num1 + num2  # Uses __add__\n",
    "print(num3)  # Uses __str__, Output: Number(15)\n"
   ]
  },
  {
   "cell_type": "code",
   "execution_count": 26,
   "id": "9aaa6fd8-0872-4ba1-8849-cbe9fb9c1801",
   "metadata": {},
   "outputs": [
    {
     "name": "stdout",
     "output_type": "stream",
     "text": [
      "Function executed\n",
      "Execution Time: 2.00368 seconds\n"
     ]
    }
   ],
   "source": [
    "# 12. Creating a Decorator to Measure Execution Time\n",
    "\n",
    "import time\n",
    "\n",
    "def execution_time(func):\n",
    "    def wrapper(*args, **kwargs):\n",
    "        start_time = time.time()\n",
    "        result = func(*args, **kwargs)\n",
    "        end_time = time.time()\n",
    "        print(f\"Execution Time: {end_time - start_time:.5f} seconds\")\n",
    "        return result\n",
    "    return wrapper\n",
    "\n",
    "@execution_time\n",
    "def slow_function():\n",
    "    time.sleep(2)\n",
    "    print(\"Function executed\")\n",
    "\n",
    "# Example Usage\n",
    "slow_function()\n"
   ]
  },
  {
   "cell_type": "code",
   "execution_count": 28,
   "id": "ec6a177b-405d-4051-87c1-cd586c721877",
   "metadata": {},
   "outputs": [
    {
     "name": "stdout",
     "output_type": "stream",
     "text": [
      "B\n"
     ]
    }
   ],
   "source": [
    "# 13. The Diamond Problem in Multiple Inheritance\n",
    "\n",
    "class A:\n",
    "    def show(self):\n",
    "        print(\"A\")\n",
    "\n",
    "class B(A):\n",
    "    def show(self):\n",
    "        print(\"B\")\n",
    "\n",
    "class C(A):\n",
    "    def show(self):\n",
    "        print(\"C\")\n",
    "\n",
    "class D(B, C):  # Multiple Inheritance\n",
    "    pass\n",
    "\n",
    "# Example Usage\n",
    "obj = D()\n",
    "obj.show()  # Resolves to B's show method due to MRO\n"
   ]
  },
  {
   "cell_type": "code",
   "execution_count": 30,
   "id": "8279da1a-5cbb-4e8f-835d-576d35db98c5",
   "metadata": {},
   "outputs": [
    {
     "name": "stdout",
     "output_type": "stream",
     "text": [
      "Number of instances created: 3\n"
     ]
    }
   ],
   "source": [
    "# 14. Tracking the Number of Instances Created\n",
    "\n",
    "class InstanceCounter:\n",
    "    count = 0  # Class variable to track instances\n",
    "\n",
    "    def __init__(self):\n",
    "        InstanceCounter.count += 1\n",
    "\n",
    "    @classmethod\n",
    "    def get_instance_count(cls):\n",
    "        return cls.count\n",
    "\n",
    "# Example Usage\n",
    "obj1 = InstanceCounter()\n",
    "obj2 = InstanceCounter()\n",
    "obj3 = InstanceCounter()\n",
    "print(\"Number of instances created:\", InstanceCounter.get_instance_count())  # Output: 3\n"
   ]
  },
  {
   "cell_type": "code",
   "execution_count": 38,
   "id": "01f7148d-34e4-4fd5-9c48-e530104b5870",
   "metadata": {},
   "outputs": [
    {
     "name": "stdout",
     "output_type": "stream",
     "text": [
      "True\n",
      "False\n"
     ]
    }
   ],
   "source": [
    "# 15. Static Method to Check Leap Year\n",
    "\n",
    "class Year:\n",
    "    @staticmethod\n",
    "    def is_leap(year):\n",
    "        return (year % 4 == 0 and year % 100 != 0) or (year % 400 == 0)\n",
    "\n",
    "# Example Usage\n",
    "print(Year.is_leap(2024))  # True (Leap Year)\n",
    "print(Year.is_leap(2023))  # False (Not a Leap Year)\n"
   ]
  },
  {
   "cell_type": "code",
   "execution_count": null,
   "id": "1f3bd991-a5a0-4cec-8dbe-c4b12f50016f",
   "metadata": {},
   "outputs": [],
   "source": []
  }
 ],
 "metadata": {
  "kernelspec": {
   "display_name": "Python 3 (ipykernel)",
   "language": "python",
   "name": "python3"
  },
  "language_info": {
   "codemirror_mode": {
    "name": "ipython",
    "version": 3
   },
   "file_extension": ".py",
   "mimetype": "text/x-python",
   "name": "python",
   "nbconvert_exporter": "python",
   "pygments_lexer": "ipython3",
   "version": "3.12.4"
  }
 },
 "nbformat": 4,
 "nbformat_minor": 5
}
